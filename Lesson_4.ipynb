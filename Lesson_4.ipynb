{
 "cells": [
  {
   "cell_type": "markdown",
   "metadata": {},
   "source": [
    "__1.__ Найти предел функции:\n",
    "\n",
    "### $$а)\\,\\,\\,\\,\\lim_{x\\to 6} \\frac{x^2-36}{x^2-x-30}$$\n",
    "\n",
    "### $$б)\\,\\,\\,\\,\\lim_{x\\to 7} \\frac{x^2-49}{x^2-13x+42}$$\n",
    "\n",
    "### $$в^*)\\,\\,\\,\\,\\lim_{x\\to 7} \\frac{\\sqrt{x+2}-\\sqrt[3]{x+20}}{\\sqrt[4]{x+9}-2}$$\n",
    "\n",
    "### $$г)\\,\\,\\,\\,\\lim_{x\\to 0} \\frac{3x\\,\\mbox{tg}\\,4x}{1-\\cos4x}$$\n",
    "\n",
    "### $$д^{**})\\,\\,\\,\\,\\lim_{x\\to 0} \\frac{\\sqrt2x^2\\sin4x}{(1-\\cos2x)^{\\frac{3}{2}}}$$\n",
    "\n",
    "### $$е)\\,\\,\\,\\,\\lim_{x\\to \\infty} \\Bigr(\\frac{4x}{4x+3}\\Bigl)^\\frac{5x^2}{7x-1}$$\n",
    "\n",
    "### $$ж^*)\\,\\,\\,\\,\\lim_{x\\to +0} \\frac{5^x-1}{x}$$\n",
    "\n",
    "### $$з^*)\\,\\,\\,\\,\\lim_{x\\to +\\infty} \\frac{\\ln(x^2-x+1)}{\\ln(x^{10}+x+1)}$$"
   ]
  },
  {
   "cell_type": "markdown",
   "metadata": {},
   "source": [
    "<div style=\"font-size: 20px\"> \n",
    "$$а)\\,\\,\\lim_{x\\to 6} \\frac{x^2-36}{x^2-x-30}$$\n",
    "    \n",
    "$li{m_{x \\to 6}}\\frac{{{x^2} - 36}}{{{x^2} - x - 30}}\\, = \\,li{m_{x \\to 6}}\\frac{{36 - 36}}{{{{36}^2} - 6 - 30}}\\, = \\frac{0}{0}$\n",
    "\n",
    "$li{m_{x \\to 6}}\\frac{{{x^2} - 36}}{{{x^2} - x - 30}}\\, = \\,li{m_{x \\to 6}}\\frac{{\\left( {x - 6} \\right)\\left( {x + 6} \\right)}}{{\\left( {x - 6} \\right)\\left( {x + 5} \\right)}}\\, = li{m_{x \\to 6}}\\frac{{x + 6}}{{x + 5}} = li{m_{x \\to 6}}\\frac{{6 + 6}}{{6 + 5}} = \\frac{{12}}{{11}}$\n",
    "\n",
    "\n",
    "\n",
    "$$б)\\,\\,\\,\\,\\lim_{x\\to 7} \\frac{x^2-49}{x^2-13x+42}$$\n",
    "\n",
    "$\\mathop {\\lim }\\limits_{x \\to 7} \\frac{{{x^2} - 49}}{{{x^2} - 13x + 42}}\\, = \\mathop {\\lim }\\limits_{x \\to 7} \\frac{{49 - 49}}{{49 - 13 \\cdot 7 + 42}}\\, = \\frac{0}{0}\\,$\n",
    "\n",
    "$\\mathop {\\lim }\\limits_{x \\to 7} \\frac{{{x^2} - 49}}{{{x^2} - 13x + 42}}\\, = \\mathop {\\lim }\\limits_{x \\to 7} \\frac{{\\left( {x - 7} \\right)\\left( {x + 7} \\right)}}{{\\left( {x - 7} \\right)\\left( {x - 6} \\right)}}\\, = \\mathop {\\lim }\\limits_{x \\to 7} \\frac{{x + 7}}{{x - 6}} = \\mathop {\\lim }\\limits_{x \\to 7} \\frac{{7 + 7}}{{7 - 6}} = 14$\n",
    "\n",
    "\n",
    "$$в^*)\\,\\,\\,\\,\\lim_{x\\to 7} \\frac{\\sqrt{x+2}-\\sqrt[3]{x+20}}{\\sqrt[4]{x+9}-2}$$\n",
    "\n",
    "\n",
    "$li{m_{x \\to 7}}\\frac{{\\sqrt {x + 2}  - \\sqrt[3]{{x + 20}}}}{{\\sqrt[4]{{x + 9}} - 2}}\\, = \\,li{m_{x \\to 7}}\\frac{{\\sqrt {7 + 2}  - \\sqrt[3]{{7 + 20}}}}{{\\sqrt[4]{{7 + 9}} - 2}}\\, = \\,\\frac{0}{0}$\n",
    "\n",
    "\n",
    "$$г)\\,\\,\\,\\,\\lim_{x\\to 0} \\frac{3x\\,\\mbox{tg}\\,4x}{1-\\cos4x}$$\n",
    "\n",
    "${\\mkern 1mu} \\mathop {\\lim }\\limits_{x \\to 0} \\frac{{3x{\\mkern 1mu} {\\rm{tg}}{\\mkern 1mu} 4x}}{{1 - \\cos 4x}} = \\frac{0}{{1 - \\cos 4 \\cdot 0}} = \\frac{0}{0}$\n",
    "\n",
    "$\\mathop {\\lim }\\limits_{x \\to 0} \\frac{{3x{\\mkern 1mu} {\\rm{tg}}{\\mkern 1mu} 4x}}{{1 - \\cos 4x}} = \\mathop {\\lim }\\limits_{x \\to 0} \\frac{{3x{\\mkern 1mu}  \\cdot {\\mkern 1mu} 4x}}{{\\frac{{16{x^2}}}{2}}} = \\mathop {\\lim }\\limits_{x \\to 0} \\frac{{3{x^2}}}{{2{x^2}}} = \\frac{3}{2}$\n",
    "\n",
    "$$д^{**})\\,\\,\\,\\,\\lim_{x\\to 0} \\frac{\\sqrt2x^2\\sin4x}{(1-\\cos2x)^{\\frac{3}{2}}}$$ \n",
    "\n",
    "$li{m_{x \\to 0}}\\frac{{\\sqrt 2 {x^2}\\sin 4x}}{{{{(1 - \\cos 2x)}^{\\frac{3}{2}}}}} = li{m_{x \\to 0}}\\frac{{\\sqrt 2 {x^2} \\cdot 4x}}{{{{\\left( {\\frac{{4{x^2}}}{2}} \\right)}^{\\frac{3}{2}}}}} = li{m_{x \\to 0}}\\frac{{4\\sqrt 2 {x^3}}}{{{{\\left( {\\sqrt 2 } \\right)}^3} \\cdot {x^3}}} = \\frac{4}{{{{\\left( {\\sqrt 2 } \\right)}^2}}} = 2$ по графику видно, что пределы с разных сторон разные. Нужно думать)))\n",
    "\n",
    "$$е)\\,\\,\\,\\,\\lim_{x\\to \\infty} \\Bigr(\\frac{4x}{4x+3}\\Bigl)^\\frac{5x^2}{7x-1}$$\n",
    "\n",
    "\n",
    "$li{m_{x \\to \\infty }}{\\left( {\\frac{{4x}}{{4x + 3}}} \\right)^{\\frac{{5{x^2}}}{{7x - 1}}}}\\, = {\\left( 1 \\right)^{ + \\infty }}$\n",
    "\n",
    "$li{m_{x \\to \\infty }}{\\left( {\\frac{{4x}}{{4x + 3}}} \\right)^{\\frac{{5{x^2}}}{{7x - 1}}}}\\, = li{m_{x \\to \\infty }}{\\left( {1 + \\frac{1}{{ - \\frac{1}{3}\\left( {4x + 3} \\right)}}} \\right)^{\\frac{{ - 3}}{{4x + 3}} \\cdot \\frac{1}{{ - 3}}\\left( {4x + 3} \\right) \\cdot \\frac{{5{x^2}}}{{7x - 1}}}} = li{m_{x \\to \\infty }}{^{ - \\frac{{15{x^2}}}{{\\left( {4x + 3} \\right)\\left( {7x - 1} \\right)}}}} = li{m_{x \\to \\infty }}{^{ - \\frac{{15{x^2}}}{{28{x^2} + 17x - 3}}}} = {^{ - \\frac{{15}}{{28}}}}$\n",
    "</div>"
   ]
  },
  {
   "cell_type": "markdown",
   "metadata": {},
   "source": [
    "__2*.__ На языке Python предложить алгоритм вычисляющий численно предел\n",
    "\n",
    "### $$\\lim_{x\\to +\\infty} \\frac{x}{\\sqrt[x]{x!}}$$"
   ]
  },
  {
   "cell_type": "markdown",
   "metadata": {},
   "source": [
    "Алгоритм нужно реализовывать через итераторы, чтобы решить проблемы с памятью, чтоб сэкономить время вычисления факториала нужно предыдущее значение сохранять в локальной переменной(использовать шаблон декоратор), что бы заново не выполнять расчет фактариала. Вот такой алгоритм."
   ]
  },
  {
   "cell_type": "code",
   "execution_count": null,
   "metadata": {},
   "outputs": [],
   "source": []
  }
 ],
 "metadata": {
  "kernelspec": {
   "display_name": "Python 3",
   "language": "python",
   "name": "python3"
  },
  "language_info": {
   "codemirror_mode": {
    "name": "ipython",
    "version": 3
   },
   "file_extension": ".py",
   "mimetype": "text/x-python",
   "name": "python",
   "nbconvert_exporter": "python",
   "pygments_lexer": "ipython3",
   "version": "3.7.4"
  }
 },
 "nbformat": 4,
 "nbformat_minor": 2
}
