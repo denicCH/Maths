{
 "cells": [
  {
   "cell_type": "markdown",
   "metadata": {
    "colab_type": "text",
    "id": "aU5YNMH9kVqP"
   },
   "source": [
    "## Практическое задание"
   ]
  },
  {
   "cell_type": "markdown",
   "metadata": {
    "colab_type": "text",
    "id": "SmdURZ_OkVqQ"
   },
   "source": [
    "__1. Найти производную $y'_{x}$ функции:__  $\\mbox{arctg}(\\frac{y}{x})=\\ln \\sqrt{x^2+y^2}$\n",
    "\n",
    "$\\begin{array}{l}\n",
    "{\\left( {\\ln \\sqrt {{x^2} + {y^2}} } \\right)^\\prime }\\, = \\frac{1}{{\\sqrt {{x^2} + {y^2}} }} \\cdot {\\left( {\\sqrt {{x^2} + {y^2}} } \\right)^\\prime } = \\frac{1}{{\\sqrt {{x^2} + {y^2}} }} \\cdot \\frac{1}{{2\\sqrt {{x^2} + {y^2}} }}{\\left( {{x^2} + {y^2}} \\right)^\\prime } = \\frac{1}{{\\sqrt {{x^2} + {y^2}} }} \\cdot \\frac{1}{{2\\sqrt {{x^2} + {y^2}} }}\\left( {2x + 2y{y^\\prime }} \\right)\\\\\n",
    "{\\left( {{\\rm{arctg}}\\left( {\\frac{y}{x}} \\right)} \\right)^\\prime } - {\\left( {\\ln \\sqrt {{x^2} + {y^2}} } \\right)^\\prime } = \\,\\frac{1}{{1 + {{\\left( {\\frac{y}{x}} \\right)}^2}}} \\cdot \\left( {\\frac{{{y^\\prime }x - y}}{{{x^2}}}} \\right) - \\frac{1}{{\\sqrt {{x^2} + {y^2}} }} \\cdot \\frac{{2x + 2y{y^\\prime }}}{{2\\sqrt {{x^2} + {y^2}} }} = \\frac{{{y^\\prime }x - y}}{{{x^2} + {y^2}}} - \\frac{{x + y{y^\\prime }}}{{{x^2} + {y^2}}} = \\frac{{{y^\\prime }x - y - x - y{y^\\prime }}}{{{x^2} + {y^2}}} = \\frac{{{y^\\prime }\\left( {x - y} \\right)}}{{{x^2} + {y^2}}} - \\frac{{y + x}}{{{x^2} + {y^2}}} = 0\\\\\n",
    "{y^\\prime } = \\frac{{y + x}}{{x - y}}\n",
    "\\end{array}$"
   ]
  },
  {
   "cell_type": "markdown",
   "metadata": {
    "colab_type": "text",
    "id": "cECfCSANkVqR"
   },
   "source": [
    "__2. Найти производную $y'_{x}$ функции:__\n",
    "\n",
    "\\begin{cases}\n",
    "   y=\\frac{t^2}{t-1}, \\\\\n",
    "   x=\\frac{t}{t^2-1} \n",
    " \\end{cases}\n",
    " \n",
    " \n",
    " $\\begin{array}{l}\n",
    "\\left\\{ {\\begin{array}{*{20}{l}}\n",
    "{{{y'}_t} = {{\\left( {\\frac{{{t^2}}}{{t - 1}}} \\right)}^\\prime } = \\frac{{{{\\left( {{t^2}} \\right)}^\\prime }\\left( {t - 1} \\right) - {t^2}{{\\left( {t - 1} \\right)}^\\prime }}}{{{{\\left( {t - 1} \\right)}^2}}} = \\frac{{2t\\left( {t - 1} \\right) - {t^2}}}{{{{\\left( {t - 1} \\right)}^2}}} = \\frac{{{t^2} - 2t}}{{{{\\left( {t - 1} \\right)}^2}}}}\\\\\n",
    "{{{x'}_t} = {{\\left( {\\frac{t}{{{t^2} - 1}}} \\right)}^\\prime } = \\frac{{{{\\left( t \\right)}^\\prime }\\left( {{t^2} - 1} \\right) - t{{\\left( {{t^2} - 1} \\right)}^\\prime }}}{{{{\\left( {{t^2} - 1} \\right)}^2}}} = \\frac{{{t^2} - 1 - 2{t^2}}}{{{{\\left( {{t^2} - 1} \\right)}^2}}} =  - \\frac{{1 + {t^2}}}{{{{\\left( {{t^2} - 1} \\right)}^2}}}}\n",
    "\\end{array}} \\right.\\\\\n",
    "{{y'}_x} = \\frac{{y'}}{{x'}} =  - \\frac{{\\frac{{{t^2} - 2t}}{{{{\\left( {t - 1} \\right)}^2}}}}}{{\\frac{{1 + {t^2}}}{{{{\\left( {{t^2} - 1} \\right)}^2}}}}} =  - \\frac{{\\left( {{t^2} - 2t} \\right){{\\left( {{t^2} - 1} \\right)}^2}}}{{\\left( {1 + {t^2}} \\right){{\\left( {t - 1} \\right)}^2}}}\n",
    "\\end{array}$"
   ]
  },
  {
   "cell_type": "markdown",
   "metadata": {
    "colab_type": "text",
    "id": "DFrjdtbHkVqS"
   },
   "source": [
    "__3. Найти производную с помощью логарифмирования:__  $y=(x^2+2)^5\\cdot(3x-x^3)^3$\n",
    "\n",
    "$\\begin{array}{l}\n",
    "\\ln y = 5\\ln ({x^2} + 2) + 3\\ln (3x - {x^3})\\\\\n",
    "\\frac{1}{y}y' = \\frac{5}{{{x^2} + 2}} \\cdot 2x + \\frac{3}{{3x - {x^3}}} \\cdot 3{x^2} = \\frac{{10x}}{{{x^2} + 2}} + \\frac{{9{x^2}}}{{3x - {x^3}}}\\\\\n",
    "y' = {({x^2} + 2)^5} \\cdot {(3x - {x^3})^3} \\cdot \\left( {\\frac{{10x}}{{{x^2} + 2}} + \\frac{{9{x^2}}}{{3x - {x^3}}}} \\right) = 10x{({x^2} + 2)^4} \\cdot {(3x - {x^3})^3} + 9{x^2}{({x^2} + 2)^5} \\cdot {(3x - {x^3})^2}\n",
    "\\end{array}$"
   ]
  },
  {
   "cell_type": "markdown",
   "metadata": {
    "colab_type": "text",
    "id": "5la-eVLukVqT"
   },
   "source": [
    "__4. Найти производную функции с помощью логарифмирования:__  $y=x^x$ \n",
    "\n",
    "$\\begin{array}{l}\n",
    "\\ln y = x\\ln x\\\\\n",
    "\\frac{1}{y}y' = x'\\ln x + x{\\mathop{\\rm l}\\nolimits} n'x = \\ln x + x \\cdot \\frac{1}{x} = \\ln x + 1\\\\\n",
    "y' = {x^x} \\cdot \\left( {\\ln x + 1} \\right)\n",
    "\\end{array}$"
   ]
  },
  {
   "cell_type": "markdown",
   "metadata": {
    "colab_type": "text",
    "id": "kQlell_GkVqU"
   },
   "source": [
    "__5. Найти производную функции с помощью логарифмирования:__ $y=\\frac{(2-x^2)^3\\cdot(x-1)^2}{(2x^3-3x)\\cdot e^x}$ \n",
    "\n",
    "$\\begin{array}{l}\n",
    "y = \\frac{{{{(2 - {x^2})}^3} \\cdot {{(x - 1)}^2}}}{{(2{x^3} - 3x) \\cdot {e^x}}}\\\\\n",
    "\\ln y = 3\\ln (2 - {x^2}) + 2\\ln (x - 1) - \\ln (2{x^3} - 3x) + x\\\\\n",
    "\\frac{1}{y}y' = \\frac{3}{{2 - {x^2}}} \\cdot \\left( { - 2x} \\right) + \\frac{2}{{x - 1}} - \\frac{1}{{2{x^3} - 3x}} + 1 = 1 - \\frac{{6x}}{{2 - {x^2}}} + \\frac{2}{{x - 1}} - \\frac{1}{{2{x^3} - 3x}}\\\\\n",
    "y' = \\frac{{{{(2 - {x^2})}^3} \\cdot {{(x - 1)}^2}}}{{(2{x^3} - 3x) \\cdot {e^x}}} \\cdot \\left( {1 - \\frac{{6x}}{{2 - {x^2}}} + \\frac{2}{{x - 1}} - \\frac{1}{{2{x^3} - 3x}}} \\right)\n",
    "\\end{array}$"
   ]
  },
  {
   "cell_type": "markdown",
   "metadata": {
    "colab_type": "text",
    "id": "gZL3IPslaDov"
   },
   "source": [
    "__6*. Вывести табличное значение производной для функции__  $\\mbox{arctg}(x)$ "
   ]
  },
  {
   "cell_type": "markdown",
   "metadata": {
    "colab_type": "text",
    "id": "gDuLWWJ9aDov"
   },
   "source": [
    "__7. Найти длину $𝑥$ и ширину $𝑦$ прямоугольника при заданном периметре $𝑃=144$ cм, при которых данный прямоугольник имеет наибольшую площадь $𝑆$.__\n",
    "\n",
    "$\\begin{array}{l}\n",
    "S = xy\\\\\n",
    "2\\left( {x + y} \\right) = 144\\\\\n",
    "y = \\frac{{144}}{2} - x = 72 - x\\\\\n",
    "S\\left( {x} \\right) = x \\cdot \\left( {72 - x} \\right)\\\\\n",
    "S' = x' \\cdot \\left( {72 - x} \\right) + x \\cdot {\\left( {72 - x} \\right)^\\prime } = 72 - x - x = 72 - 2x\\\\\n",
    "72 - 2x\\, = \\,0\\\\\n",
    "x = \\frac{{72}}{2} = 36\\\\\n",
    "y = 72 - 36 = 36\n",
    "\\\\S\\left( {36} \\right) = {36^2}\n",
    "\\end{array}$\n",
    "\n",
    "$S\\left( {36} \\right)$ является точкой максимума функции, тогда когда $S''\\left( {36} \\right) < 0, S''\\left( x \\right) =  - 2$"
   ]
  },
  {
   "cell_type": "markdown",
   "metadata": {
    "colab_type": "text",
    "id": "I7esCTKIaDow"
   },
   "source": [
    "__8*. Завод $A$ отстоит от железной дороги, идущей с юга на север и проходящей через $B$, считая по кратчайшему расстоянию на $a$ км. Под каким углом $\\alpha$ к железной дороге следует ппостроить подъезной  путь от завода, чтобы транспортировка грузов из $A$ в $B$ была наиболее экономичной, если стоимость провоза тонны груза на расстоянии $1$ км составляет: по подъезному пути $p$ рублей, по железной дороге $q$ рублей $(p>q)$ и город $B$ расположен на $b$ км севернее завода $A$.__"
   ]
  },
  {
   "cell_type": "code",
   "execution_count": null,
   "metadata": {},
   "outputs": [],
   "source": []
  }
 ],
 "metadata": {
  "kernelspec": {
   "display_name": "Python 3",
   "language": "python",
   "name": "python3"
  },
  "language_info": {
   "codemirror_mode": {
    "name": "ipython",
    "version": 3
   },
   "file_extension": ".py",
   "mimetype": "text/x-python",
   "name": "python",
   "nbconvert_exporter": "python",
   "pygments_lexer": "ipython3",
   "version": "3.7.4"
  }
 },
 "nbformat": 4,
 "nbformat_minor": 2
}
