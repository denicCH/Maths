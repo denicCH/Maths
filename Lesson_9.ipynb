{
 "cells": [
  {
   "cell_type": "markdown",
   "metadata": {
    "colab_type": "text",
    "id": "aU5YNMH9kVqP"
   },
   "source": [
    "## Практическое задание"
   ]
  },
  {
   "cell_type": "markdown",
   "metadata": {
    "colab_type": "text",
    "id": "SmdURZ_OkVqQ"
   },
   "source": [
    "__1.__ Вычислить неопределенный интеграл\n",
    "\n",
    "### $$\\int \\frac{2x+3}{(x-2)(x+5)}\\,dx$$\n",
    "\n",
    "### $\\begin{array}{l}\n",
    "\\frac{{2x + 3}}{{(x - 2)(x + 5)}}\\, = \\,\\frac{A}{{x - 2}} + \\frac{B}{{x + 5}} = \\frac{{A(x + 5) + B(x - 2)}}{{(x - 2)(x + 5)}} = \\\\\n",
    "2x + 3 = A(x + 5) + B(x - 2) = Ax + 5 \\cdot A + Bx - 2 \\cdot B = \\left( {A + B} \\right)x + \\left( {5 \\cdot A - 2 \\cdot B} \\right)\\\\\n",
    "\\left\\{ \\begin{array}{l}\n",
    "5 \\cdot A - 2 \\cdot B = 3\\\\\n",
    "A + B = 2\n",
    "\\end{array} \\right. \\Rightarrow \\left\\{ \\begin{array}{l}\n",
    "5 \\cdot \\left( {2 - B} \\right) - 2 \\cdot B = 3\\\\\n",
    "A = 2 - B\n",
    "\\end{array} \\right. \\Rightarrow \\left\\{ \\begin{array}{l}\n",
    "B = 1\\\\\n",
    "A = 1\n",
    "\\end{array} \\right.\\\\\n",
    "\\frac{{2x + 3}}{{(x - 2)(x + 5)}}\\, = \\frac{1}{{x - 2}} + \\frac{1}{{x + 5}}\\\\\n",
    "\\int {\\frac{{2x + 3}}{{(x - 2)(x + 5)}}} {\\mkern 1mu} dx = \\int {\\frac{1}{{x - 2}}} {\\mkern 1mu} dx + \\int {\\frac{1}{{x + 5}}} {\\mkern 1mu} dx\\\\\n",
    "\\int {\\frac{1}{{x - 2}}} {\\mkern 1mu} dx = \\int {\\frac{1}{t}} {\\mkern 1mu} dt = \\ln \\left| t \\right| + C = \\ln \\left| {x - 2} \\right| + C\\\\\n",
    "t = x - 2,\\,dt = dx\\\\\n",
    "\\int {\\frac{1}{{x + 5}}} {\\mkern 1mu} dx\\int {\\frac{1}{t}} {\\mkern 1mu} dt = \\ln \\left| t \\right| + C = \\ln \\left| {x + 5} \\right| + C\\\\\n",
    "t = x + 5,\\,dt = dx\\\\\n",
    "\\int {\\frac{{2x + 3}}{{(x - 2)(x + 5)}}} {\\mkern 1mu} dx = \\int {\\frac{1}{{x - 2}}} {\\mkern 1mu} dx + \\int {\\frac{1}{{x + 5}}} {\\mkern 1mu} dx = \\ln \\left| {x - 2} \\right| + \\ln \\left| {x + 5} \\right| + C\n",
    "\\end{array}$\n"
   ]
  },
  {
   "cell_type": "markdown",
   "metadata": {
    "colab_type": "text",
    "id": "cECfCSANkVqR"
   },
   "source": [
    "__2.__ Вычислить неопределенный интеграл\n",
    "\n",
    "### $$\\int e^{2x}\\cos 3x\\,dx$$\n",
    "\n",
    "### $\\begin{array}{l}\n",
    "U = {e^{2x}}\\, \\Rightarrow \\,dU\\, = \\,2{e^{2x}}\\\\\n",
    "dV = \\cos 3x\\, \\Rightarrow \\,V = \\frac{1}{3}\\sin 3x\\\\\n",
    "\\int {{e^{2x}}} \\cos 3x{\\mkern 1mu} dx = \\frac{1}{3}{e^{2x}}\\sin 3x - \\int {2{e^{2x}}} \\frac{1}{3}\\sin 3x{\\mkern 1mu} dx = \\frac{1}{3}{e^{2x}}\\sin 3x - \\frac{2}{3}\\int {{e^{2x}}} \\sin 3x{\\mkern 1mu} dx\\\\\n",
    "\\int {{e^{2x}}\\sin 3x} {\\mkern 1mu} dx =  - {e^{2x}} \\cdot \\frac{1}{3}\\cos 3x + \\frac{2}{3}\\int {{e^{2x}}\\cos 3x} {\\mkern 1mu} dx\\\\\n",
    "U = {e^{2x}}\\, \\Rightarrow \\,dU\\, = \\,2{e^{2x}}\\\\\n",
    "dV = \\sin 3x\\, \\Rightarrow \\,V =  - \\frac{1}{3}\\cos 3x\\\\\n",
    "\\int {{e^{2x}}} \\cos 3x{\\mkern 1mu} dx = {e^{2x}} \\cdot \\frac{1}{3}\\sin 3x - \\frac{2}{3} \\cdot \\left( { - \\frac{1}{3}{e^{2x}}\\cos 3x + \\frac{2}{3}\\int {{e^{2x}}\\cos 3x} {\\mkern 1mu} dx} \\right)\\\\\n",
    "\\int {{e^{2x}}} \\cos 3x{\\mkern 1mu} dx = {e^{2x}} \\cdot \\frac{1}{3}\\sin 3x + \\frac{2}{9}{e^{2x}}\\cos 3x - \\frac{4}{9}\\int {{e^{2x}}\\cos 3x} {\\mkern 1mu} dx\\\\\n",
    "\\int {{e^{2x}}} \\cos 3x{\\mkern 1mu} dx = {e^{2x}} \\cdot \\frac{3}{{13}}\\sin 3x + \\frac{2}{{13}}{e^{2x}}\\cos 3x = {e^{2x}} \\cdot \\frac{{3\\sin 3x + 2\\cos 3x}}{{13}}\\\\\n",
    "\\int {{e^{2x}}} \\cos 3x{\\mkern 1mu} dx = {e^{2x}} \\cdot \\frac{{3\\sin 3x + 2\\cos 3x}}{{13}}\n",
    "\\end{array}$"
   ]
  },
  {
   "cell_type": "markdown",
   "metadata": {
    "colab_type": "text",
    "id": "DFrjdtbHkVqS"
   },
   "source": [
    "__3.__ Вычислить определенный интеграл\n",
    "\n",
    "### $$\\int\\limits_0^{\\ln2} xe^{-x}\\,dx$$\n",
    "\n",
    "### $\\begin{array}{l}\n",
    "U = x\\, \\Rightarrow \\,dU\\, = \\,1\\\\\n",
    "dV = {e^{ - x}}\\, \\Rightarrow \\,V =  - {e^{ - x}}\\\\\n",
    "\\int\\limits_0^{\\ln 2} x {e^{ - x}}{\\mkern 1mu} dx =  - x{e^{ - x}}\\left| {_0^{\\ln 2}} \\right. + \\int\\limits_0^{\\ln 2} {{e^{ - x}}} {\\mkern 1mu} dx =  - x{e^{ - x}}\\left| {_0^{\\ln 2}} \\right. - {e^{ - x}}\\left| {_0^{\\ln 2}} \\right. =  - {e^{ - x}} \\cdot \\left( {x + 1} \\right)\\left| {_0^{\\ln 2}} \\right. =  - {e^{ - \\ln 2}} \\cdot \\left( {\\ln 2 + 1} \\right) + 1 =  - \\frac{1}{2} \\cdot \\left( {\\ln 2 + 1} \\right) + 1 = 0.153\n",
    "\\end{array}$"
   ]
  },
  {
   "cell_type": "markdown",
   "metadata": {
    "colab_type": "text",
    "id": "8WjM7zpH4RyM"
   },
   "source": [
    "__3.__ Вычислить несобственный интеграл\n",
    "\n",
    "### $$\\int\\limits_2^{+\\infty} \\frac{dx}{x^2+x-2}$$\n",
    "\n",
    "### $\\begin{array}{l}\n",
    "\\int\\limits_2^{ + \\infty } {\\frac{{dx}}{{{x^2} + x - 2}}}  =  - \\mathop {\\lim }\\limits_{b \\to  + \\infty } \\int\\limits_2^b {\\frac{{dx}}{{{{\\left( {\\frac{3}{2}} \\right)}^2} - {{\\left( {x + \\frac{1}{2}} \\right)}^2}}}}  =  - \\mathop {\\lim }\\limits_{b \\to  + \\infty } \\left. {\\frac{1}{{2 \\cdot \\left( {\\frac{3}{2}} \\right)}} \\cdot \\ln \\left| {\\frac{{\\frac{3}{2} + x + \\frac{1}{2}}}{{\\frac{3}{2} - x - \\frac{1}{2}}}} \\right|} \\right|_2^b =  - \\mathop {\\lim }\\limits_{b \\to  + \\infty } \\left. {\\frac{1}{3} \\cdot \\ln \\left| {\\frac{{x + 2}}{{x - 1}}} \\right|} \\right|_2^b = \\\\\n",
    " =  - \\frac{1}{3}\\mathop {\\lim }\\limits_{b \\to  + \\infty } \\left. {\\ln \\left| {\\frac{{b + 2}}{{b - 1}}} \\right|} \\right| + \\frac{1}{3} \\cdot \\ln \\left| 4 \\right| = 0 + \\frac{1}{3} \\cdot \\ln \\left| 4 \\right| = \\frac{{\\ln \\left( 4 \\right)}}{3}\\\\\n",
    "\\mathop {\\lim }\\limits_{b \\to  + \\infty } \\left. {\\ln \\left| {\\frac{{b + 2}}{{b - 1}}} \\right|} \\right| = \\mathop {\\lim }\\limits_{b \\to  + \\infty } \\left. {\\ln \\left( {1 - \\frac{3}{{b - 1}}} \\right)} \\right| = \\mathop {\\lim }\\limits_{b \\to  + \\infty } \\left. {\\ln \\left( {1 - 0} \\right)} \\right| = \\ln \\left( 1 \\right) = 0\n",
    "\\end{array}$"
   ]
  },
  {
   "cell_type": "markdown",
   "metadata": {
    "colab_type": "text",
    "id": "cuLCvoBm4RyO"
   },
   "source": [
    "__4*.__ Вычислить несобственный интеграл\n",
    "\n",
    "### $$\\int\\limits_0^{1} \\ln x\\,dx$$\n",
    "\n",
    "#### $\\begin{array}{l}\n",
    "\\int\\limits_0^1 {\\ln \\left( x \\right)} {\\mkern 1mu} dx = \\mathop {\\lim }\\limits_{\\varepsilon  \\to 0} \\int\\limits_{0 + \\varepsilon }^1 {\\ln \\left( x \\right)} {\\mkern 1mu} dx = \\mathop {\\lim }\\limits_{\\varepsilon  \\to 0} \\left( {\\left. {x \\cdot \\ln \\left( x \\right)} \\right|_{0 + \\varepsilon }^1 - \\int\\limits_{0 + \\varepsilon }^1 {\\,\\frac{1}{x}x} {\\mkern 1mu} dx} \\right) = 1 \\cdot \\left( {\\ln \\left( 1 \\right) - 1} \\right) - \\mathop {\\lim }\\limits_{\\varepsilon  \\to 0} \\left( {\\varepsilon  \\cdot \\left( {\\ln \\left( \\varepsilon  \\right) - 1} \\right)} \\right) =  - 1 - 0 =  - 1\\\\\n",
    "U = \\ln \\left( x \\right)\\, \\Rightarrow \\,dU\\, = \\,\\frac{1}{x}\\\\\n",
    "dV = 1\\, \\Rightarrow \\,V\\, = \\,x\n",
    "\\end{array}$"
   ]
  },
  {
   "cell_type": "markdown",
   "metadata": {
    "colab_type": "text",
    "id": "Iv-T_NZAkVqZ"
   },
   "source": [
    "## Дополнительные материалы"
   ]
  },
  {
   "cell_type": "markdown",
   "metadata": {
    "colab_type": "text",
    "id": "9o_SiUNxkVqa"
   },
   "source": [
    "1. [пример вычисления интеграла Лебега на WolframAlpfa](https://demonstrations.wolfram.com/LebesgueIntegration/)\n",
    "2. [про интеграл Лебега](https://mathworld.wolfram.com/LebesgueIntegral.html)\n",
    "3. [про меру Лебега](https://mathworld.wolfram.com/Measure.html)"
   ]
  },
  {
   "cell_type": "code",
   "execution_count": null,
   "metadata": {
    "colab": {},
    "colab_type": "code",
    "id": "KqOFnA-I4RyX"
   },
   "outputs": [],
   "source": []
  }
 ],
 "metadata": {
  "colab": {
   "collapsed_sections": [],
   "name": "Lesson_9.ipynb",
   "provenance": []
  },
  "kernelspec": {
   "display_name": "Python 3",
   "language": "python",
   "name": "python3"
  },
  "language_info": {
   "codemirror_mode": {
    "name": "ipython",
    "version": 3
   },
   "file_extension": ".py",
   "mimetype": "text/x-python",
   "name": "python",
   "nbconvert_exporter": "python",
   "pygments_lexer": "ipython3",
   "version": "3.7.4"
  }
 },
 "nbformat": 4,
 "nbformat_minor": 1
}
