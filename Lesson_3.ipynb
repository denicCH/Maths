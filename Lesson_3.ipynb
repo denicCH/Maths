{
 "cells": [
  {
   "cell_type": "markdown",
   "metadata": {
    "colab_type": "text",
    "id": "SmdURZ_OkVqQ"
   },
   "source": [
    "__1.__ Найти предел последовательности:\n",
    "\n",
    "### $$а)\\,\\,\\,\\,\\lim_{n\\to \\infty} \\frac{(23-2n^2)(3n^2+17)^2}{4n^6+n-1}$$\n",
    "\n",
    "### $$б)\\,\\,\\,\\,\\lim_{n\\to \\infty} \\frac{(97-2n)^3}{2n(3n^2+15)+8n}$$\n",
    "\n",
    "### $$в)\\,\\,\\,\\,\\lim_{n\\to \\infty} \\frac{2n^3+13n(n+18)}{(27-n)(2n+19)^2}$$\n",
    "\n",
    "### $$г)\\,\\,\\,\\,\\lim_{n\\to \\infty} (\\sqrt{n^2+1}-n)$$\n",
    "\n",
    "### $$д)\\,\\,\\,\\,\\lim_{n\\to \\infty} \\frac{(-4)^n+5\\cdot7^n}{(-4)^{n-1}+7^{n+2}}$$\n",
    "\n",
    "### $$e)^*\\,\\,\\,\\,\\lim_{n\\to \\infty} \\Bigl(\\frac{1}{1\\cdot2}+\\frac{1}{2\\cdot3}+\\frac{1}{3\\cdot4}+...+\\frac{1}{(n-1)\\cdot n}\\Bigr)$$"
   ]
  },
  {
   "cell_type": "markdown",
   "metadata": {},
   "source": [
    "### a) $li{m_{n \\to \\infty }}\\frac{{(23 - 2{n^2}){{(3{n^2} + 17)}^2}}}{{4{n^6} + n - 1}} = li{m_{n \\to \\infty }}\\frac{{(23 - 2{n^2})(9{n^4} + 102{n^2} + {{17}^2})}}{{4{n^6} + n - 1}}\\, = \\,\\frac{9}{2}$ (если максимальная степень числителя равна максимальной степени знаменателя, то предел равен коэффициентам при этих степенях.)\n",
    "\n",
    "\n",
    "### б) $li{m_{n \\to \\infty }}\\frac{{{{(97 - 2n)}^3}}}{{2n(3{n^2} + 15) + 8n}} = li{m_{n \\to \\infty }}\\frac{{{{(97 - 2n)}^3}{{97}^3} - 6 \\cdot {{97}^2} \\cdot n + 12 \\cdot {n^2} - 8{n^3}}}{{6{n^3} + 38n}} =  - \\frac{8}{6} =  - \\frac{4}{3}$(если максимальная степень числителя равна максимальной степени знаменателя, то предел равен коэффициентам при этих степенях.)\n",
    "\n",
    "\n",
    "### в) $li{m_{n \\to \\infty }}\\frac{{2{n^3} + 13n(n + 18)}}{{(27 - n){{(2n + 19)}^2}}} = li{m_{n \\to \\infty }}\\frac{{2{n^3} + 13n(n + 18)}}{{27 \\cdot (4{n^2} + 4 \\cdot 19 \\cdot n + {{19}^2}) - (4{n^3} + 4 \\cdot 19 \\cdot {n^2} + {{19}^2}n)}} =  - \\frac{2}{4} =  - \\frac{1}{2}$ (если максимальная степень числителя равна максимальной степени знаменателя, то предел равен коэффициентам при этих степенях.)\n",
    "\n",
    "\n",
    "### г) $li{m_{n \\to \\infty }}(\\sqrt {{n^2} + 1}  - n) = li{m_{n \\to \\infty }}(\\sqrt {{n^2} + 1}  - n) \\cdot \\frac{{(\\sqrt {{n^2} + 1}  + n)}}{{(\\sqrt {{n^2} + 1}  + n)}} = li{m_{n \\to \\infty }}\\frac{{{n^2} + 1 - {n^2}}}{{\\sqrt {{n^2} + 1}  + n}} = li{m_{n \\to \\infty }}\\frac{1}{{\\sqrt {{n^2} + 1}  + n}} = 0$ (если максимальная степень числителя меньше максимальной степени знаменателя, то предел равен  0)\n",
    "\n",
    "\n",
    "### д) $li{m_{n \\to \\infty }}\\frac{{{{( - 4)}^n} + 5 \\cdot {7^n}}}{{{{( - 4)}^{n - 1}} + {7^{n + 2}}}} = li{m_{n \\to \\infty }}\\frac{{{{\\left( { - \\frac{4}{7}} \\right)}^n} + 5}}{{\\frac{1}{{ - 4}}{{\\left( { - \\frac{4}{7}} \\right)}^n} + {7^2}}} = \\frac{5}{{49}}$\n",
    "\n",
    "### e) $li{m_{n \\to \\infty }}\\left( {\\frac{1}{{1 \\cdot 2}} + \\frac{1}{{2 \\cdot 3}} + \\frac{1}{{3 \\cdot 4}} + ... + \\frac{1}{{(n - 1) \\cdot n}}} \\right) = li{m_{n \\to \\infty }}\\left( {\\left( {1 - \\frac{1}{2}} \\right) + \\left( {\\frac{1}{2} - \\frac{1}{3}} \\right) + \\left( {\\frac{1}{3} - \\frac{1}{4}} \\right) + ... + \\left( {\\frac{1}{n} - \\frac{1}{{(n - 1)}}} \\right)} \\right) = li{m_{n \\to \\infty }}1 - \\frac{1}{{(n - 1)}} = 1$"
   ]
  },
  {
   "cell_type": "code",
   "execution_count": null,
   "metadata": {},
   "outputs": [],
   "source": []
  },
  {
   "cell_type": "code",
   "execution_count": null,
   "metadata": {},
   "outputs": [],
   "source": []
  },
  {
   "cell_type": "code",
   "execution_count": null,
   "metadata": {},
   "outputs": [],
   "source": []
  },
  {
   "cell_type": "code",
   "execution_count": null,
   "metadata": {},
   "outputs": [],
   "source": []
  },
  {
   "cell_type": "code",
   "execution_count": 21,
   "metadata": {},
   "outputs": [
    {
     "data": {
      "image/png": "[encoded data removed]",
      "text/latex": [
       "$\\displaystyle \\frac{\\left(-4\\right)^{n} + 5 \\cdot 7^{n}}{\\left(-4\\right)^{n - 1} + 7^{n + 2}}$"
      ],
      "text/plain": [
       "       n      n   \n",
       "   (-4)  + 5⋅7    \n",
       "──────────────────\n",
       "    n - 1    n + 2\n",
       "(-4)      + 7     "
      ]
     },
     "execution_count": 21,
     "metadata": {},
     "output_type": "execute_result"
    }
   ],
   "source": [
    "from sympy import *\n",
    "init_printing()\n",
    "n=Symbol('n')\n",
    "a=((-4)**n+5*7**n)/((-4)**(n-1)+7**(n+2))\n",
    "a"
   ]
  },
  {
   "cell_type": "code",
   "execution_count": 22,
   "metadata": {},
   "outputs": [
    {
     "data": {
      "image/png": "[encoded data removed]",
      "text/latex": [
       "$\\displaystyle 8$"
      ],
      "text/plain": [
       "8"
      ]
     },
     "execution_count": 22,
     "metadata": {},
     "output_type": "execute_result"
    }
   ],
   "source": [
    "2**3\n"
   ]
  },
  {
   "cell_type": "code",
   "execution_count": null,
   "metadata": {},
   "outputs": [],
   "source": [
    "limit (a,n,oo)"
   ]
  },
  {
   "cell_type": "markdown",
   "metadata": {
    "colab_type": "text",
    "id": "C3iZq6sa5ntV"
   },
   "source": [
    "__2.__ Представьте $1$ в виде суммы трех рациональных дробей с разными знаменателями и числителем равным $1$."
   ]
  },
  {
   "cell_type": "code",
   "execution_count": 36,
   "metadata": {},
   "outputs": [
    {
     "name": "stdout",
     "output_type": "stream",
     "text": [
      "x = 6\n",
      "y = 2\n",
      "z = 3\n"
     ]
    }
   ],
   "source": [
    "point = 1000\n",
    "x_res = 0\n",
    "y_res = 0\n",
    "z_res = 0\n",
    "for x in range(3,point):\n",
    "    for y in range(2,point):\n",
    "        if (x*y) % ((x - 1)*(y - 1) - 1) == 0:\n",
    "            z_res = int((x*y) / ((x - 1)*(y - 1) - 1))\n",
    "            x_res = x\n",
    "            y_res = y\n",
    "            break        \n",
    "print (f'x = {x_res}',f'y = {y_res}',f'z = {z_res}', sep='\\n')        "
   ]
  },
  {
   "cell_type": "markdown",
   "metadata": {},
   "source": [
    "### ответ: $\\frac{1}{2} + \\frac{1}{3} + \\frac{1}{6} = 1$"
   ]
  },
  {
   "cell_type": "code",
   "execution_count": null,
   "metadata": {},
   "outputs": [],
   "source": []
  },
  {
   "cell_type": "markdown",
   "metadata": {},
   "source": [
    "__3$^*$.__ Тоже задание, только в виде суммы шести дробей."
   ]
  },
  {
   "cell_type": "markdown",
   "metadata": {
    "colab_type": "text",
    "id": "YXM41nh-5ntW"
   },
   "source": [
    "__4.__ Пользуясь критерием Коши, докажите сходимость последовательности:\n",
    "\n",
    "### $$a_n=\\frac{\\sin1}{2}+\\frac{\\sin2}{2^2}+\\frac{\\sin3}{2^3}+..\\frac{\\sin n}{2^n}\\,\\,\\,\\,\\,\\Rightarrow$$\n",
    "\n",
    "### $$\\Bigl\\{a_n\\Bigr\\}_{n=1}^\\infty=\\Bigl\\{\\frac{\\sin1}{2}, \\frac{\\sin1}{2}+\\frac{\\sin2}{2^2}, ..., a_n,...\\Bigr\\}$$\n",
    "\n",
    "\n",
    "$^*$ Какой член последовательности можно взять в качестве предела с точностью $\\varepsilon=10^{-7}$?"
   ]
  },
  {
   "cell_type": "code",
   "execution_count": 22,
   "metadata": {},
   "outputs": [
    {
     "name": "stdout",
     "output_type": "stream",
     "text": [
      "Численное значение предела: 0.5928377620958291308571797762\n",
      " Погрешность: 2.1103165842065516011E-9\n",
      " Число шагов: 22\n"
     ]
    }
   ],
   "source": [
    "import math\n",
    "from decimal import *\n",
    "eps = 10**(-7)\n",
    "lim=1\n",
    "series=[0]\n",
    "res = 0\n",
    "n = 1\n",
    "\n",
    "while lim > eps:    \n",
    "    series += [Decimal(math.sin(n))/Decimal((2**n))]\n",
    "    sum_ = sum(series)\n",
    "    lim = abs(sum_ - res)\n",
    "    res = sum_\n",
    "    n += 1\n",
    "    \n",
    "    \n",
    "print (f'Численное значение предела: {res}\\n',f'Погрешность: {lim}\\n', f'Число шагов: {n-1}')"
   ]
  },
  {
   "cell_type": "markdown",
   "metadata": {},
   "source": [
    "в качестве предела последовательности, с точностью $\\varepsilon=10^{-7}$, можно взять член последовательности под номером 22"
   ]
  },
  {
   "cell_type": "markdown",
   "metadata": {
    "colab_type": "text",
    "id": "j5y7Gr-65ntW"
   },
   "source": [
    "__5$^*$.__  Пользуясь критерием Коши, докажите расходимость последовательности:\n",
    "\n",
    "### $$b_n=1+\\frac{1}{2}+\\frac{1}{3}+..\\frac{1}{n}\\,\\,\\,\\,\\,\\Rightarrow$$\n",
    "\n",
    "### $$\\Bigl\\{b_n\\Bigr\\}_{n=1}^\\infty=\\Bigl\\{1, 1+\\frac{1}{2},1+\\frac{1}{2}+\\frac{1}{3}, ..., b_n,...\\Bigr\\}$$"
   ]
  }
 ],
 "metadata": {
  "kernelspec": {
   "display_name": "Python 3",
   "language": "python",
   "name": "python3"
  },
  "language_info": {
   "codemirror_mode": {
    "name": "ipython",
    "version": 3
   },
   "file_extension": ".py",
   "mimetype": "text/x-python",
   "name": "python",
   "nbconvert_exporter": "python",
   "pygments_lexer": "ipython3",
   "version": "3.7.4"
  }
 },
 "nbformat": 4,
 "nbformat_minor": 2
}
