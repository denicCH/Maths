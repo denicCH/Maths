{
 "cells": [
  {
   "cell_type": "markdown",
   "metadata": {
    "colab_type": "text",
    "id": "aU5YNMH9kVqP"
   },
   "source": [
    "## Практическое задание"
   ]
  },
  {
   "cell_type": "markdown",
   "metadata": {
    "colab_type": "text",
    "id": "SmdURZ_OkVqQ"
   },
   "source": [
    "__1.__ Исследовать на условный экстремум функцию\n",
    "\n",
    "### $$U=3-8x+6y,$$\n",
    "\n",
    "если\n",
    "\n",
    "### $$x^2+y^2=36$$\n",
    "\n",
    "Запишем функцию Лагранжа:\n",
    "\n",
    "### $$L(x,y,\\lambda)=3-8x+6y +\\lambda \\cdot (x^2+y^2-36)$$\n",
    "\n",
    "Найдем частные производные, приравняем их к нулю и решим систему уравнений:\n",
    "\n",
    "### $$\\left\\{ {\\begin{array}{*{20}{l}}\n",
    "{{{L'}_x} = 8 + 2\\lambda  \\cdot x = 0}\\\\\n",
    "{{{L'}_y} = 6 + 2\\lambda  \\cdot y = 0}\\\\\n",
    "{{{L'}_\\lambda } = {x^2} + {y^2} - 36 = 0}\n",
    "\\end{array}} \\right.$$\n",
    "\n",
    "\n",
    "### $\\begin{array}{l}\n",
    "\\left\\{ {\\begin{array}{*{20}{l}}\n",
    "{8 + 2\\lambda  \\cdot x = 0}\\\\\n",
    "{6 + 2\\lambda  \\cdot y = 0}\\\\\n",
    "{{x^2} + {y^2} - 36 = 0}\n",
    "\\end{array}} \\right. \\Rightarrow \\left\\{ {\\begin{array}{*{20}{l}}\n",
    "{x =  - \\frac{4}{\\lambda }}\\\\\n",
    "{y =  - \\frac{3}{\\lambda }}\\\\\n",
    "{{{\\left( { - \\frac{4}{\\lambda }} \\right)}^2} + {{\\left( { - \\frac{3}{{2\\lambda }}} \\right)}^2} - 36 = 0}\n",
    "\\end{array}} \\right. \\Rightarrow \\left\\{ {\\begin{array}{*{20}{l}}\n",
    "{{x_1} =  - \\frac{{24}}{5},{x_2} = \\frac{{24}}{5}}\\\\\n",
    "{{y_1} =  - \\frac{{18}}{5},{y_2} = \\frac{{18}}{5}}\\\\\n",
    "{{\\lambda _1} = \\frac{5}{6},\\,{\\lambda _2} =  - \\frac{5}{6}}\n",
    "\\end{array}} \\right.\\\\\n",
    "{\\left( { - \\frac{4}{\\lambda }} \\right)^2} + {\\left( { - \\frac{3}{\\lambda }} \\right)^2} - 36 = 0\\\\\n",
    "\\frac{{16 + 9}}{{{\\lambda ^2}}} = 36\\\\\n",
    "\\lambda  =  \\pm \\sqrt {\\frac{{16 + 9}}{{36}}}  =  \\pm \\sqrt {\\frac{{25}}{{36}}}  =  \\pm \\frac{5}{6}\n",
    "\\end{array}\n",
    "$\n",
    "\n",
    "Стационарными точками являются 2 точки $\\left( { - \\frac{{24}}{5}, - \\frac{{18}}{5},\\,\\frac{5}{6}} \\right),\\,\\left( {\\frac{{24}}{5},\\frac{{18}}{5},\\, - \\frac{5}{6}} \\right)$\n",
    "\n",
    "Найдем вторые производные:\n",
    "\n",
    "$$\\begin{array}{l}\n",
    "{{L''}_{xx}} = 2\\lambda \\\\\n",
    "{{L''}_{xy}} = 0\\\\\n",
    "{{L''}_{x\\lambda }} = 2x\\\\\n",
    "{{L''}_{yx}} = 0\\\\\n",
    "{{L''}_{yy}} = 2\\lambda \\\\\n",
    "{{L''}_{y\\lambda }} = 2y\\\\\n",
    "{{L''}_{\\lambda x}} = 2x\\\\\n",
    "{{L''}_{\\lambda y}} = 2y\\\\\n",
    "{{L''}_{\\lambda \\lambda }} = 0\n",
    "\\end{array}$$\n",
    "\n",
    "Составим матрицу Гёссе и найдем определитель:\n",
    "\n",
    "$\\Delta  = \\left( {\\begin{array}{*{20}{c}}\n",
    "{{{L''}_{\\lambda \\lambda }}}&{{{L''}_{\\lambda x}}}&{{{L''}_{\\lambda y}}}\\\\\n",
    "{{{L''}_{x\\lambda }}}&{{{L''}_{xx}}}&{{{L''}_{xy}}}\\\\\n",
    "{{{L''}_{y\\lambda }}}&{{{L''}_{yx}}}&{{{L''}_{yy}}}\n",
    "\\end{array}} \\right) \\Rightarrow \\left( {\\begin{array}{*{20}{c}}\n",
    "0&{2x}&{2y}\\\\\n",
    "{2x}&{2\\lambda }&0\\\\\n",
    "{2y}&0&{2\\lambda }\n",
    "\\end{array}} \\right) \\Rightarrow 0 \\cdot \\left| {\\begin{array}{*{20}{c}}\n",
    "{2\\lambda }&0\\\\\n",
    "0&{2\\lambda }\n",
    "\\end{array}} \\right| - 2x \\cdot \\left| {\\begin{array}{*{20}{c}}\n",
    "{2x}&0\\\\\n",
    "{2y}&{2\\lambda }\n",
    "\\end{array}} \\right| + 2y \\cdot \\left| {\\begin{array}{*{20}{c}}\n",
    "{2x}&{2\\lambda }\\\\\n",
    "{2y}&0\n",
    "\\end{array}} \\right| =  - 2x \\cdot \\left( {4x\\lambda  - 0} \\right) + 2y \\cdot \\left( {0 - 4y\\lambda } \\right)$\n",
    "\n",
    "$\\Delta  =  - 8{x^2}\\lambda  - 8{y^2}\\lambda  =  - 8\\lambda \\left( {{x^2} + {y^2}} \\right) =  - 8\\lambda  \\cdot 36 =  - 288\\lambda $\n",
    "\n",
    "для точки $\\left( { - \\frac{{24}}{5}, - \\frac{{18}}{5},\\,\\frac{5}{6}} \\right)$:\n",
    "\n",
    "$$\\Delta  =  - 48 \\cdot 5 =  - 240$$\n",
    "\n",
    "для точки $\\left( {\\frac{{24}}{5},\\frac{{18}}{5},\\, - \\frac{5}{6}} \\right)$:\n",
    "\n",
    "$$\\Delta  =  - 48 \\cdot 5 = 240$$\n",
    "\n",
    "Точка $\\left( { - \\frac{{24}}{5}, - \\frac{{18}}{5},\\,\\frac{5}{6}} \\right)$, является точкой __минимума__\n",
    "\n",
    "Точка $\\left( {\\frac{{24}}{5},\\frac{{18}}{5},\\, - \\frac{5}{6}} \\right)$, является точкой __максимума__"
   ]
  },
  {
   "cell_type": "markdown",
   "metadata": {
    "colab_type": "text",
    "id": "cECfCSANkVqR"
   },
   "source": [
    "__2.__ Исследовать на условный экстремум функцию\n",
    "\n",
    "### $$U=2x^2+12xy+32y^2+15,$$\n",
    "\n",
    "если\n",
    "\n",
    "### $$x^2+16y^2=64$$\n",
    "\n",
    "Запишем функцию Лагранжа:\n",
    "\n",
    "### $$L(x,y,\\lambda)=2x^2+12xy+32y^2+15 +\\lambda \\cdot (x^2+16y^2-64)$$\n",
    "\n",
    "\n",
    "### $$\\left\\{ {\\begin{array}{*{20}{l}}\n",
    "{{{L'}_x} = 4x + 12 + 2\\lambda  \\cdot x = 0}\\\\\n",
    "{{{L'}_y} = 12 + 64y + 32\\lambda  \\cdot y = 0}\\\\\n",
    "{{{L'}_\\lambda } = {x^2} + 16{y^2} - 64 = 0}\n",
    "\\end{array}} \\right.$$\n",
    "\n",
    "#### $\\left\\{ {\\begin{array}{*{20}{l}}\n",
    "{4x + 12 + 2\\lambda  \\cdot x = 0}\\\\\n",
    "{12 + 64y + 32\\lambda  \\cdot y = 0}\\\\\n",
    "{{x^2} + 16{y^2} - 64 = 0}\n",
    "\\end{array}} \\right. \\Rightarrow \\left\\{ {\\begin{array}{*{20}{l}}\n",
    "{x = \\frac{{ - 6}}{{\\left( {2 + \\lambda } \\right)}}}\\\\\n",
    "{y = \\frac{{ - 3}}{{8\\left( {32 + \\lambda } \\right)}}}\\\\\n",
    "{{{\\left( {\\frac{{ - 6}}{{\\left( {2 + \\lambda } \\right)}}} \\right)}^2} + 16{{\\left( {\\frac{{ - 3}}{{8\\left( {32y + \\lambda } \\right)}}} \\right)}^2} - 64 = 0}\n",
    "\\end{array}} \\right. \\Rightarrow \\left\\{ {\\begin{array}{*{20}{l}}\n",
    "{{x_1} = 0,{x_2} = 0,{x_3} = \\frac{{\\sqrt {1023} }}{4},{x_4} =  - \\frac{{\\sqrt {1023} }}{4}}\\\\\n",
    "{{y_1} =  - 2,{y_2} = 2,{y_3} = \\frac{1}{{16}},{y_4} = \\frac{1}{{16}}}\\\\\n",
    "{{\\lambda _1} =  - \\frac{{29}}{{16}},\\,{\\lambda _2} =  - \\frac{{35}}{{16}},{\\lambda _3} =  - 8,\\,{\\lambda _4} =  - 8}\n",
    "\\end{array}} \\right.$\n",
    "\n",
    "Стационарными точками являются 4 точки $\\left( {0, - 2,-\\frac{{29}}{{16}}} \\right)$,$\\left( {0,2,-\\frac{{35}}{{16}}} \\right)$,$\\left( {\\frac{{\\sqrt {1023} }}{4},\\frac{1}{{16}}, - 8} \\right)$,$\\left( { - \\frac{{\\sqrt {1023} }}{4},\\frac{1}{{16}}, - 8} \\right)$\n",
    "\n",
    "Найдем вторые производные:\n",
    "\n",
    "$$\\begin{array}{l}\n",
    "{{L''}_{xx}} = 4 + 2\\lambda \\\\\n",
    "{{L''}_{yy}} = 64 + 32\\lambda \\\\\n",
    "{{L''}_{\\lambda \\lambda }} = 0\\\\\n",
    "{{L''}_{x\\lambda }} = {{L''}_{\\lambda x}} = 2x\\\\\n",
    "{{L''}_{yx}} = {{L''}_{xy}} = 0\\\\\n",
    "{{L''}_{y\\lambda }} = {{L''}_{\\lambda y}} = 32y\n",
    "\\end{array}$$\n",
    "\n",
    "Составим матрицу Гёссе и найдем определитель:\n",
    "\n",
    "$\\Delta  = \\left( {\\begin{array}{*{20}{c}}\n",
    "{{{L''}_{\\lambda \\lambda }}}&{{{L''}_{\\lambda x}}}&{{{L''}_{\\lambda y}}}\\\\\n",
    "{{{L''}_{x\\lambda }}}&{{{L''}_{xx}}}&{{{L''}_{xy}}}\\\\\n",
    "{{{L''}_{y\\lambda }}}&{{{L''}_{yx}}}&{{{L''}_{yy}}}\n",
    "\\end{array}} \\right) = {{L''}_{\\lambda \\lambda }}\\left| {\\begin{array}{*{20}{c}}\n",
    "{{{L''}_{xx}}}&{{{L''}_{xy}}}\\\\\n",
    "{{{L''}_{yx}}}&{{{L''}_{yy}}}\n",
    "\\end{array}} \\right| - {{L''}_{\\lambda x}}\\left| {\\begin{array}{*{20}{c}}\n",
    "{{{L''}_{x\\lambda }}}&{{{L''}_{xy}}}\\\\\n",
    "{{{L''}_{y\\lambda }}}&{{{L''}_{yy}}}\n",
    "\\end{array}} \\right| + {{L''}_{\\lambda y}}\\left| {\\begin{array}{*{20}{c}}\n",
    "{{{L''}_{x\\lambda }}}&{{{L''}_{xx}}}\\\\\n",
    "{{{L''}_{y\\lambda }}}&{{{L''}_{yx}}}\n",
    "\\end{array}} \\right| = {{L''}_{\\lambda \\lambda }} \\cdot \\left( {{{L''}_{xx}} \\cdot {{L''}_{yy}} - {{L''}_{xy}} \\cdot {{L''}_{yy}}} \\right) - {{L''}_{\\lambda x}} \\cdot \\left( {{{L''}_{x\\lambda }} \\cdot {{L''}_{yy}} - {{L''}_{xy}} \\cdot {{L''}_{y\\lambda }}} \\right) + {{L''}_{\\lambda y}} \\cdot \\left( {{{L''}_{x\\lambda }} \\cdot {{L''}_{yx}} - {{L''}_{xx}} \\cdot {{L''}_{y\\lambda }}} \\right)$\n",
    "\n",
    "$\\begin{array}{l}\n",
    "\\Delta  = 0 \\cdot \\left( {\\left( {4 + 2\\lambda } \\right) \\cdot \\left( {64 + 32\\lambda } \\right) - 0 \\cdot 0} \\right) - 2x \\cdot \\left( {2x \\cdot \\left( {64 + 32\\lambda } \\right) - 0 \\cdot 32y} \\right) + 32y \\cdot \\left( {2x \\cdot 0 - \\left( {4 + 2\\lambda } \\right) \\cdot 32y} \\right)\\\\\n",
    "\\Delta  =  - 2x \\cdot \\left( {2x \\cdot \\left( {64 + 32\\lambda } \\right)} \\right) + 32y \\cdot \\left( { - \\left( {4 + 2\\lambda } \\right) \\cdot 32y} \\right)\\\\\n",
    "\\Delta  =  - 2 \\cdot 128{x^2}\\, - 2 \\cdot 64\\lambda {x^2} - {32^2}{y^2} \\cdot 4 - {32^2}{y^2} \\cdot 2\\lambda \\\\\n",
    "\\Delta  =  - 4 \\cdot 32 \\cdot 2\\left( {{x^2} + 16{y^2}} \\right) - 2\\lambda  \\cdot 32 \\cdot 2\\left( {{x^2} + 16{y^2}} \\right)\\\\\n",
    "\\Delta  =  - 4 \\cdot 32\\left( {{x^2} + 16{y^2}} \\right)\\left( {2 + \\lambda } \\right)\\\\\n",
    "\\Delta  =  - 4 \\cdot 32 \\cdot 64 \\cdot \\left( {2 + \\lambda } \\right)\\\\\n",
    "\\Delta  =  - 8192 \\cdot \\left( {2 + \\lambda } \\right)\n",
    "\\end{array}$\n",
    "\n",
    "Подставим соответствующее значение $\\lambda$ для каждой точки в выражение определителя:\n",
    "### $$\\begin{array}{l}\n",
    "\\Delta \\left( {0, - 2,-\\frac{{29}}{{16}}} \\right) =  - 1536\\\\\n",
    "\\Delta \\left( {0,2,-\\frac{{35}}{{16}}} \\right) = 1536\\\\\n",
    "\\Delta \\left( {\\frac{{\\sqrt {1023} }}{4},\\frac{1}{{16}}, - 8} \\right) = 49152\\\\\n",
    "\\Delta \\left( { - \\frac{{\\sqrt {1023} }}{4},\\frac{1}{{16}}, - 8} \\right) = 49152\n",
    "\\end{array}$$\n",
    "\n",
    "Точка $\\left( {0, - 2,-\\frac{{29}}{{16}}} \\right)$, является точкой минимума, все остальные стационарные точки, являются точками максимума."
   ]
  },
  {
   "cell_type": "code",
   "execution_count": 11,
   "metadata": {},
   "outputs": [
    {
     "data": {
      "text/plain": [
       "[-1536.0, 1536.0, 49152, 49152]"
      ]
     },
     "execution_count": 11,
     "metadata": {},
     "output_type": "execute_result"
    }
   ],
   "source": [
    "[-8192*(2+l) for l in [-29/16,-35/16,-8,-8]]"
   ]
  },
  {
   "cell_type": "markdown",
   "metadata": {
    "colab_type": "text",
    "id": "DFrjdtbHkVqS"
   },
   "source": [
    "__3.__ Численно найти хотя бы один действительный корень системы нелинейных уравнений:\n",
    "### $$\\begin{cases}\n",
    "   x^2-y^2+3xy^3-2x^2y^2+2x-3y-5=0 \\\\\n",
    "   3y^3-2x^2+2x^3y-5x^2y^2+5=0\n",
    " \\end{cases}$$"
   ]
  },
  {
   "cell_type": "code",
   "execution_count": 64,
   "metadata": {},
   "outputs": [
    {
     "name": "stdout",
     "output_type": "stream",
     "text": [
      "Корень системы уравнений x = 1.375687140379588 и y = -0.17475798541530854\n"
     ]
    }
   ],
   "source": [
    "import numpy as np\n",
    "from scipy.optimize import fsolve\n",
    "import math\n",
    "\n",
    "def equations(p):\n",
    "    x, y = p\n",
    "    return [x**2-y**2+3*x*y**3-2*x**2*y**2+2*x-3*y-5,3*y**3-2*x**2+2*x**3*y-5*x**2*y**2+5]\n",
    "\n",
    "res, info, ier, mesg = fsolve(equations, (0,0), full_output=True)\n",
    "if (ier == 1): \n",
    "    x, y = res\n",
    "    print(f'Корень системы уравнений x = {x} и y = {y}')    \n",
    "else:\n",
    "    print(f'Корень системы уравнений не найдены')\n"
   ]
  },
  {
   "cell_type": "markdown",
   "metadata": {
    "colab_type": "text",
    "id": "5la-eVLukVqT"
   },
   "source": [
    "__4*.__ Численно найти все $5$ действительных корней."
   ]
  },
  {
   "cell_type": "code",
   "execution_count": 66,
   "metadata": {},
   "outputs": [
    {
     "name": "stderr",
     "output_type": "stream",
     "text": [
      "D:\\Program Files\\Anaconda3\\lib\\site-packages\\ipykernel_launcher.py:7: RuntimeWarning: overflow encountered in long_scalars\n",
      "  import sys\n"
     ]
    },
    {
     "name": "stdout",
     "output_type": "stream",
     "text": [
      "[[1.37568714, -0.17475798], [1.27330206, 1.66203912], [2.21775363, 0.61019397], [2.49435653, 0.70831752], [2.49435654, 0.70831752]]\n"
     ]
    }
   ],
   "source": [
    "solv = []\n",
    "for x in np.arange (-2000, 2000, 2):\n",
    "    solution, info, ier, mesg =  fsolve(equations, (x,x), full_output=True)\n",
    "    if (ier == 1): \n",
    "        res = [int(solution[0]*10**8)/10**8,int(solution[1]*10**8)/10**8]\n",
    "        if res in solv:\n",
    "            continue\n",
    "        solv.append(res)            \n",
    "print (solv)"
   ]
  },
  {
   "cell_type": "markdown",
   "metadata": {
    "colab_type": "text",
    "id": "jJT2pGWCxqBZ"
   },
   "source": [
    "__5*.__ Даны две функции $y_{1}=f(x)$ и $y_{2}=g(x)$. Известно, что:\n",
    "\n",
    "### $$f'(x)=\\frac{1}{2}g(x)$$\n",
    "\n",
    "### $$g'(x)=2-2f(x)$$\n",
    "\n",
    "### $$f(0)=0$$\n",
    "\n",
    "### $$g(0)=1$$\n",
    "\n",
    "Восстановить функции $y_{1}=f(x)$ и $y_{2}=g(x)$ с помощью формулы:\n",
    "\n",
    "### $$f(x+\\Delta x) \\approx f(x)+f'(x) \\cdot \\Delta x$$\n",
    "\n",
    "на участке $[0, 20]$\n",
    "\n",
    "В качестве решения построить график этих функций в одной системе координат."
   ]
  },
  {
   "cell_type": "code",
   "execution_count": 121,
   "metadata": {},
   "outputs": [
    {
     "data": {
      "image/png": "[encoded data removed]",
      "text/plain": [
       "<Figure size 432x288 with 1 Axes>"
      ]
     },
     "metadata": {
      "needs_background": "light"
     },
     "output_type": "display_data"
    }
   ],
   "source": [
    "import math\n",
    "import pandas as pd\n",
    "import numpy as np\n",
    "from matplotlib import pylab as plt\n",
    "import numpy as np\n",
    "%matplotlib inline\n",
    "\n",
    "def fun(x1=0,x2=20):\n",
    "    def res(f,g,delta_x):\n",
    "        #print(f,g,delta_x,sep=\"\\n\")\n",
    "        res = [f+(1/2)*g*delta_x, g + 2-2*f*delta_x]\n",
    "        return res\n",
    "    delta_x = 0.001\n",
    "    f = 0\n",
    "    g = 1\n",
    "    f_ = [f]\n",
    "    g_ = [g]\n",
    "    x_ = [0]\n",
    "    stop = 0\n",
    "    while stop <= x2:\n",
    "        f,g = res(f,g,delta_x)\n",
    "        stop += delta_x\n",
    "        x_ += [round(stop,3)]\n",
    "        f_ += [round(f,2)]\n",
    "        g_ += [round(g,2)]\n",
    "    return [x_,f_,g_]\n",
    "    \n",
    "\n",
    "x1,x2 = [0,20]   \n",
    "x,f,g = fun(x1,x2)\n",
    "max_ = max([max(f),max(g)])\n",
    "max_ = max_ + max_* 0.2\n",
    "min_ = min([min(f),min(g)])\n",
    "min_ = min_ + min_ * 0.2\n",
    "plt.axis([-1+x1, 1+x2, min_, max_])\n",
    "\n",
    "\n",
    "plt.plot(x,f, c='b')\n",
    "plt.plot(x,g, c='r')\n",
    "plt.show()"
   ]
  },
  {
   "cell_type": "markdown",
   "metadata": {},
   "source": [
    "$\\begin{array}{l}\n",
    "g'(x) = 2 - 2f(x)\\\\\n",
    "f'(x) = \\frac{1}{2}g(x)\\\\\n",
    "y' = 2 - 2t\\\\\n",
    "t' = \\frac{1}{2}y\\\\\n",
    "\\\\\n",
    "y'' =  - 2t'\\\\\n",
    "y'' =  - 2\\frac{1}{2}y\\\\\n",
    "y'' + y = 0\\\\\n",
    "y'\\, = \\,p = p\\left( y \\right)\\\\\n",
    "y'' = p \\cdot p'\\\\\n",
    "p \\cdot dp =  - ydy\\\\\n",
    "\\frac{1}{2}{p^2} =  - \\frac{1}{2}{y^2} + {C_1}\\\\\n",
    "p = \\sqrt { - {y^2} + 2{C_1}} \\\\\n",
    "\\frac{{dy}}{{\\sqrt {{{\\left( {\\sqrt {2{C_1}} } \\right)}^2} - {y^2}} }}\\, = \\,dx\\\\\n",
    "\\arcsin \\left( {\\frac{{{y^2}}}{{\\sqrt {2{C_1}} }}} \\right) = x + {C_2}\\\\\n",
    "\\frac{y}{{\\sqrt {2{C_1}} }} = \\sin \\left( {x + {C_2}} \\right)\\\\\n",
    "y\\, = \\sqrt {2{C_1}}  \\cdot \\sin \\left( {x + {C_2}} \\right)\\,\\\\\n",
    "y'\\, = \\sqrt {2{C_1}}  \\cdot \\cos \\left( {x + {C_2}} \\right)\\\\\n",
    "t =  - \\frac{1}{2}\\left( {\\sqrt {2{C_1}}  \\cdot \\cos \\left( {x + {C_2}} \\right) - 2} \\right)\\\\\n",
    "t' = \\frac{1}{2}\\sqrt {2{C_1}}  \\cdot \\sin \\left( {x + {C_2}} \\right)\\\\\n",
    "t' = \\frac{1}{2}y\\,\\\\\n",
    "\\left\\{ \\begin{array}{l}\n",
    " - \\frac{1}{2}\\left( {\\sqrt {2{C_1}}  \\cdot \\cos \\left( {{C_2}} \\right) - 2} \\right) = 0\\\\\n",
    "\\sqrt {2{C_1}}  \\cdot \\sin \\left( {{C_2}} \\right) = 1\\,\n",
    "\\end{array} \\right. \\Rightarrow \\left\\{ \\begin{array}{l}\n",
    "\\sqrt {2{C_1}}  = \\frac{2}{{\\cos \\left( {{C_2}} \\right)}} \\Rightarrow {C_1} = \\frac{2}{{{{\\cos }^2}\\left( {{C_2}} \\right)}}\\\\\n",
    "tg\\left( {{C_2}} \\right) = \\frac{1}{2} \\Rightarrow {C_2} = arctg\\left( {\\frac{1}{2}} \\right)\n",
    "\\end{array} \\right. \\Rightarrow \\left\\{ \\begin{array}{l}\n",
    "{C_1} = \\frac{2}{{{{\\cos }^2}\\left( {arctg\\left( {\\frac{1}{2}} \\right)} \\right)}}\\\\\n",
    "{C_2} = arctg\\left( {\\frac{1}{2}} \\right)\n",
    "\\end{array} \\right.\n",
    "\\end{array}$"
   ]
  },
  {
   "cell_type": "markdown",
   "metadata": {
    "colab_type": "text",
    "id": "9ixsx4-KxqBa"
   },
   "source": [
    "__6**.__ Найти все корни уравнения:\n",
    "    \n",
    "### $$f(x)=g(x)$$\n",
    "\n",
    "на участке $[0, 20]$\n",
    "\n",
    "Где $y_{1}=f(x)$ и $y_{2}=g(x)$ - функции из предыдущего решения."
   ]
  },
  {
   "cell_type": "code",
   "execution_count": 122,
   "metadata": {},
   "outputs": [
    {
     "data": {
      "text/plain": [
       "[{'x': 2.215, 'f': 1601.63, 'g': 1600.33, '|f-g|': 1.300000000000182},\n",
       " {'x': 6.281, 'f': -3.14, 'g': -3.39, '|f-g|': 0.25},\n",
       " {'x': 8.5, 'f': 1604.97, 'g': 1603.17, '|f-g|': 1.7999999999999545},\n",
       " {'x': 12.562, 'f': -6.29, 'g': -7.8, '|f-g|': 1.5099999999999998},\n",
       " {'x': 14.784, 'f': 1607.53, 'g': 1607.23, '|f-g|': 0.2999999999999545},\n",
       " {'x': 18.844, 'f': -9.45, 'g': -10.22, '|f-g|': 0.7700000000000014}]"
      ]
     },
     "execution_count": 122,
     "metadata": {},
     "output_type": "execute_result"
    }
   ],
   "source": [
    "res = []\n",
    "for i,elem in enumerate(x):    \n",
    "    r = abs(f[i]-g[i])\n",
    "    try:\n",
    "        if (f[i-1]-g[i-1])*(f[i+1]-g[i+1]) < 0 and f[i]-g[i] > 0:\n",
    "            res += [{\"x\":elem, \"f\":f[i], \"g\":g[i], \"|f-g|\":r}]\n",
    "    except:\n",
    "        continue    \n",
    "res"
   ]
  },
  {
   "cell_type": "code",
   "execution_count": null,
   "metadata": {},
   "outputs": [],
   "source": []
  }
 ],
 "metadata": {
  "colab": {
   "collapsed_sections": [],
   "name": "Lesson_8.ipynb",
   "provenance": []
  },
  "kernelspec": {
   "display_name": "Python 3",
   "language": "python",
   "name": "python3"
  },
  "language_info": {
   "codemirror_mode": {
    "name": "ipython",
    "version": 3
   },
   "file_extension": ".py",
   "mimetype": "text/x-python",
   "name": "python",
   "nbconvert_exporter": "python",
   "pygments_lexer": "ipython3",
   "version": "3.7.4"
  }
 },
 "nbformat": 4,
 "nbformat_minor": 1
}
