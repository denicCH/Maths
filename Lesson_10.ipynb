{
 "cells": [
  {
   "cell_type": "markdown",
   "metadata": {
    "colab_type": "text",
    "id": "aU5YNMH9kVqP"
   },
   "source": [
    "## Практическое задание"
   ]
  },
  {
   "cell_type": "markdown",
   "metadata": {
    "colab_type": "text",
    "id": "SmdURZ_OkVqQ"
   },
   "source": [
    "__1.__ Исследовать сходимость ряда. \n",
    "\n",
    "\n",
    "### $$\\frac{1}{2\\sqrt2}+\\frac{1}{3\\sqrt3}+\\,...\\,+\\frac{1}{(n+1)\\sqrt{n+1}}+\\,...\\,=\\sum\\limits_{n=1}^{+\\infty}\\frac{1}{(n+1)\\sqrt{n+1}}$$\n",
    "\n",
    "(*) Двумя различными признаками.\n",
    "\n",
    "__Необходимым условием__ сходимости любого ряда является стремлению к нулю главного члена ряда. \n",
    "\n",
    "### $\\mathop {\\lim }\\limits_{n \\to  + \\infty } \\frac{1}{{(n + 1)\\sqrt {n + 1} }} = \\mathop {\\lim }\\limits_{n \\to  + \\infty } \\frac{1}{{{{(n + 1)}^{\\frac{3}{2}}}}} = 0$\n",
    "\n",
    "#### По признаку д’Аламбера.\n",
    "\n",
    "### $\\mathop {\\lim }\\limits_{n \\to  + \\infty } \\frac{{{a_{n + 1}}}}{{{a_n}}} = \\mathop {\\lim }\\limits_{n \\to  + \\infty } \\frac{1}{{{{(n + 2)}^{\\frac{3}{2}}}}}:\\frac{1}{{{{(n + 1)}^{\\frac{3}{2}}}}} = \\mathop {\\lim }\\limits_{n \\to  + \\infty } {\\left( {\\frac{{n + 1}}{{n + 2}}} \\right)^{\\frac{3}{2}}} = \\mathop {\\lim }\\limits_{n \\to  + \\infty } {\\left( {1 - \\frac{1}{{n + 2}}} \\right)^{\\frac{3}{2}}} = 1$\n",
    "\n",
    "Так как $\\mathop {\\lim }\\limits_{n \\to  + \\infty } \\frac{{{a_{n + 1}}}}{{{a_n}}} = 1$, то то признак д’Аламбера не работает.\n",
    "\n",
    "### По второму признаку сравнения\n",
    "\n",
    "### $\\frac{1}{{{{(n + 1)}^{\\frac{3}{2}}}}} \\sim O(\\frac{1}{{{n^{\\frac{3}{2}}}}})$ \n",
    "\n",
    "Так как степень более 1, то ряд сходится\n"
   ]
  },
  {
   "cell_type": "markdown",
   "metadata": {
    "colab_type": "text",
    "id": "cECfCSANkVqR"
   },
   "source": [
    "__2.__ Исследовать сходимость ряда\n",
    "\n",
    "### $$\\frac{1000}{1!}+\\frac{1000^2}{2!}+\\,...\\,+\\frac{1000^n}{n!}+\\,...\\,=\\sum\\limits_{n=1}^{+\\infty}\\frac{1000^n}{n!}$$\n",
    "\n",
    "#### По признаку д’Аламбера.\n",
    "\n",
    "### $\\mathop {\\lim }\\limits_{n \\to  + \\infty } \\frac{{{a_{n + 1}}}}{{{a_n}}} = \\mathop {\\lim }\\limits_{n \\to  + \\infty } \\frac{{{{1000}^{n + 1}}}}{{\\left( {n + 1} \\right)!}}:\\frac{{{{1000}^n}}}{{n!}} = \\mathop {\\lim }\\limits_{n \\to  + \\infty } \\frac{{n!}}{{\\left( {n + 1} \\right)!}} \\cdot \\frac{{{{1000}^{n + 1}}}}{{{{1000}^n}}} = 1000\\mathop {\\lim }\\limits_{n \\to  + \\infty } \\left( {\\frac{1}{{n + 1}}} \\right) = 0$\n",
    "\n",
    "Ряд сходится\n"
   ]
  },
  {
   "cell_type": "markdown",
   "metadata": {
    "colab_type": "text",
    "id": "DFrjdtbHkVqS"
   },
   "source": [
    "__3*.__ Исследовать сходимость ряда\n",
    "\n",
    "### $$\\frac{2\\cdot1!}{1}+\\frac{2^2\\cdot2!}{2^2}+\\,...\\,+\\frac{2^n\\cdot n!}{n^n}+\\,...\\,=\\sum\\limits_{n=1}^{+\\infty}\\frac{2^n\\cdot n!}{n^n}$$\n",
    "\n",
    "### $\\begin{array}{l}\n",
    "\\mathop {\\lim }\\limits_{n \\to  + \\infty } \\frac{{{a_{n + 1}}}}{{{a_n}}} = \\mathop {\\lim }\\limits_{n \\to  + \\infty } \\frac{{{2^{n + 1}} \\cdot \\left( {n + 1} \\right)!}}{{{{\\left( {n + 1} \\right)}^{\\left( {n + 1} \\right)}}}}:\\frac{{{2^n} \\cdot n!}}{{{n^n}}} = \\mathop {\\lim }\\limits_{n \\to  + \\infty } \\frac{{2 \\cdot {2^n} \\cdot n! \\cdot \\left( {n + 1} \\right)}}{{{{\\left( {n + 1} \\right)}^n} \\cdot \\left( {n + 1} \\right)}} \\cdot \\frac{n}{{{2^n} \\cdot n!}} = 2\\mathop {\\lim }\\limits_{n \\to  + \\infty } {\\left( {\\frac{n}{{n + 1}}} \\right)^n} = 2\\mathop {\\lim }\\limits_{n \\to  + \\infty } {\\left( {1 - \\frac{1}{{n + 1}}} \\right)^n}\\\\\n",
    "2\\mathop {\\lim }\\limits_{n \\to  + \\infty } {\\left( {1 - \\frac{1}{{n + 1}}} \\right)^n} = 2\\mathop {\\lim }\\limits_{n \\to  + \\infty } {\\left( {1 + \\frac{1}{{ - \\left( {n + 1} \\right)}}} \\right)^{\\frac{{ - n \\cdot \\left( {n + 1} \\right)}}{{\\left( {n + 1} \\right)}}}} = 2\\mathop {\\lim }\\limits_{n \\to  + \\infty } {e^{\\frac{{ - n}}{{\\left( {n + 1} \\right)}}}} = 2\\mathop {\\lim }\\limits_{n \\to  + \\infty } {e^{ - \\left( {1 - \\frac{1}{{\\left( {n + 1} \\right)}}} \\right)}} = 2{e^{ - 1}}\n",
    "\\end{array}$\n",
    "\n",
    "\n",
    "Ряд сходится"
   ]
  },
  {
   "cell_type": "markdown",
   "metadata": {
    "colab_type": "text",
    "id": "m0IKTWbDgoa8"
   },
   "source": [
    "__4*.__ Исследовать сходимость ряда\n",
    "\n",
    "### $$\\frac{3\\cdot1!}{1}+\\frac{3^2\\cdot2!}{2^2}+\\,...\\,+\\frac{3^n\\cdot n!}{n^n}+\\,...\\,=\\sum\\limits_{n=1}^{+\\infty}\\frac{3^n\\cdot n!}{n^n}$$\n",
    "\n",
    "### $\\begin{array}{l}\n",
    "\\mathop {\\lim }\\limits_{n \\to  + \\infty } \\frac{{{a_{n + 1}}}}{{{a_n}}} = \\mathop {\\lim }\\limits_{n \\to  + \\infty } \\frac{{{3^{n + 1}} \\cdot \\left( {n + 1} \\right)!}}{{{{\\left( {n + 1} \\right)}^{\\left( {n + 1} \\right)}}}}:\\frac{{{3^n} \\cdot n!}}{{{n^n}}} = \\mathop {\\lim }\\limits_{n \\to  + \\infty } \\frac{{3 \\cdot {3^n} \\cdot n! \\cdot \\left( {n + 1} \\right)}}{{{{\\left( {n + 1} \\right)}^n} \\cdot \\left( {n + 1} \\right)}} \\cdot \\frac{n}{{{3^n} \\cdot n!}} = 3\\mathop {\\lim }\\limits_{n \\to  + \\infty } {\\left( {\\frac{n}{{n + 1}}} \\right)^n} = 3\\mathop {\\lim }\\limits_{n \\to  + \\infty } {\\left( {1 - \\frac{1}{{n + 1}}} \\right)^n}\\\\\n",
    "3\\mathop {\\lim }\\limits_{n \\to  + \\infty } {\\left( {1 - \\frac{1}{{n + 1}}} \\right)^n} = 3\\mathop {\\lim }\\limits_{n \\to  + \\infty } {\\left( {1 + \\frac{1}{{ - \\left( {n + 1} \\right)}}} \\right)^{\\frac{{ - n \\cdot \\left( {n + 1} \\right)}}{{\\left( {n + 1} \\right)}}}} = 3\\mathop {\\lim }\\limits_{n \\to  + \\infty } {e^{\\frac{{ - n}}{{\\left( {n + 1} \\right)}}}} = 3\\mathop {\\lim }\\limits_{n \\to  + \\infty } {e^{ - \\left( {1 - \\frac{1}{{\\left( {n + 1} \\right)}}} \\right)}} = 3{e^{ - 1}}\n",
    "\\end{array}$\n",
    "\n",
    "$3{e^{ - 1}} > 1$, ряд расходится"
   ]
  },
  {
   "cell_type": "markdown",
   "metadata": {
    "colab_type": "text",
    "id": "5CuHUhpzgoa8"
   },
   "source": [
    "__5.__ Исследовать сходимость ряда\n",
    "\n",
    "### $$-\\frac{\\sqrt1}{101}+\\frac{\\sqrt2}{102}-\\,...\\,+\\frac{(-1)^n\\sqrt n}{n+100}+\\,...\\,=\\sum\\limits_{n=1}^{+\\infty}\\frac{(-1)^n\\sqrt n}{n+100}$$\n",
    "\n",
    "\n",
    "\n",
    "\n",
    "Иследуем на сходимость данный ряд, применяя интегральный признак.\n",
    "\n",
    "\n",
    "$\\begin{array}{l}\n",
    "\\int\\limits_1^{ + \\infty } {\\frac{{\\sqrt x }}{{x + 100}}} dx = \\left[ {\\sqrt x \\, = \\,t\\, \\Rightarrow x\\, = \\,{t^2}\\, \\Rightarrow \\,dx\\, = \\,2td} \\right] = \\int\\limits_1^{ + \\infty } {\\frac{{2{t^2}}}{{{t^2} + 100}}} dt = 2\\int\\limits_1^{ + \\infty } {\\left( {1 - \\frac{{{{10}^2}}}{{{t^2} + {{10}^2}}}} \\right)} \\,dt = 2\\left. {\\left( {t - 10 \\cdot arctg\\left( {\\frac{t}{{10}}} \\right)} \\right)} \\right|_1^{ + \\infty } = \\\\\n",
    " = \\left. {2\\left( {\\sqrt x  - 10 \\cdot arctg\\left( {\\frac{{\\sqrt x }}{{10}}} \\right)} \\right)} \\right|_1^{ + \\infty } = 2\\mathop {\\lim }\\limits_{x \\to  + \\infty } \\left( {\\sqrt x  - 10 \\cdot arctg\\left( {\\frac{{\\sqrt x }}{{10}}} \\right)} \\right) - 2\\left( {\\sqrt 1  - 10 \\cdot arctg\\left( {\\frac{{\\sqrt 1 }}{{10}}} \\right)} \\right) = 2\\mathop {\\lim }\\limits_{x \\to  + \\infty } \\left( {\\sqrt x  - 10 \\cdot arctg\\left( {\\frac{{\\sqrt x }}{{10}}} \\right)} \\right) - 2\\left( {1 - 10 \\cdot arctg\\left( {\\frac{1}{{10}}} \\right)} \\right) = \\\\\n",
    " = \\left( {2\\mathop {\\lim }\\limits_{x \\to  + \\infty } \\sqrt x  - 20\\mathop {\\lim }\\limits_{x \\to  + \\infty } arctg\\left( {\\frac{{\\sqrt x }}{{10}}} \\right)} \\right) - 2\\left( {1 - 10 \\cdot arctg\\left( {\\frac{1}{{10}}} \\right)} \\right) = 2\\mathop {\\lim }\\limits_{x \\to  + \\infty } \\sqrt x  - 20\\frac{\\pi }{2} - 2\\left( {1 - 10 \\cdot arctg\\left( {\\frac{1}{{10}}} \\right)} \\right) =  + \\infty \n",
    "\\end{array}$\n",
    "\n",
    "Так как несобственный интеграл расходится, то ряд $\\sum\\limits_{n = 1}^{ + \\infty } {\\frac{{\\sqrt n }}{{n + 100}}}$ не является абсолютно сходящимся.\n",
    "\n",
    "Выясним, сходится ли данный знакочередующийся ряд, применяя признак Лейбница. Найдем предел общего члена.\n",
    "\n",
    "$\\mathop {\\lim }\\limits_{x \\to \\infty } \\frac{{\\sqrt n }}{{n + 100}} = \\mathop {\\lim }\\limits_{x \\to \\infty } \\frac{{\\frac{1}{{\\sqrt n }}}}{{1 + \\frac{{100}}{n}}} = 0$\n",
    "\n",
    "По признаку Лейбница знакочередующийся рад сходится, однако он не является абсолютно сходящимся, поэтому данный ряд сходится условно. "
   ]
  },
  {
   "cell_type": "markdown",
   "metadata": {
    "colab_type": "text",
    "id": "a20rzH_Ggoa8"
   },
   "source": [
    "__6*.__ Разложить функцию $y=e^x$ в ряд Маклорена, а так же в ряд Фурье на отрезке $[-\\pi, \\pi]$. Построить график функции и разложений."
   ]
  },
  {
   "cell_type": "markdown",
   "metadata": {
    "colab_type": "text",
    "id": "Iv-T_NZAkVqZ"
   },
   "source": [
    "## Дополнительные материалы"
   ]
  },
  {
   "cell_type": "markdown",
   "metadata": {
    "colab_type": "text",
    "id": "9o_SiUNxkVqa"
   },
   "source": [
    "1. [пример с habr](https://habr.com/ru/post/338704/)"
   ]
  }
 ],
 "metadata": {
  "colab": {
   "collapsed_sections": [],
   "name": "Lesson_10.ipynb",
   "provenance": []
  },
  "kernelspec": {
   "display_name": "Python 3",
   "language": "python",
   "name": "python3"
  },
  "language_info": {
   "codemirror_mode": {
    "name": "ipython",
    "version": 3
   },
   "file_extension": ".py",
   "mimetype": "text/x-python",
   "name": "python",
   "nbconvert_exporter": "python",
   "pygments_lexer": "ipython3",
   "version": "3.7.4"
  }
 },
 "nbformat": 4,
 "nbformat_minor": 1
}
