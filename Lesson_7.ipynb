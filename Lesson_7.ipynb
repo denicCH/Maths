{
 "cells": [
  {
   "cell_type": "markdown",
   "metadata": {
    "colab_type": "text",
    "id": "aU5YNMH9kVqP"
   },
   "source": [
    "## Практическое задание"
   ]
  },
  {
   "cell_type": "markdown",
   "metadata": {
    "colab_type": "text",
    "id": "SmdURZ_OkVqQ"
   },
   "source": [
    "__1. Найти частные производные первого и второго порядка. Убедиться в равенстве смешанных производных.__\n",
    "\n",
    "### $$U=x^3+3xy^2+z^2-39x-36y+2z+26$$\n",
    "\n",
    "### $\\begin{array}{l}\n",
    "{{U'}_x}\\, = {\\left( {{x^3} + 3x{y^2} + {z^2} - 39x - 36y + 2z + 26} \\right)^\\prime } = 3{x^2} + 3{y^2} - 39\\\\\n",
    "{{U'}_y}\\, = {\\left( {{x^3} + 3x{y^2} + {z^2} - 39x - 36y + 2z + 26} \\right)^\\prime } = 6xy - 36\\\\\n",
    "{{U'}_z}\\, = {\\left( {{x^3} + 3x{y^2} + {z^2} - 39x - 36y + 2z + 26} \\right)^\\prime } = 2z + 2\\\\\n",
    "{{U''}_{xx}} = 6x\\\\\n",
    "{{U''}_{xy}} = 6y\\\\\n",
    "{{U''}_{xz}} = 0\\\\\n",
    "{{U''}_{yx}} = 6y\\\\\n",
    "{{U''}_{yy}} = 6x\\\\\n",
    "{{U''}_{yz}} = 0\\\\\n",
    "{{U''}_{zx}} = 0\\\\\n",
    "{{U''}_{zy}} = 0\\\\\n",
    "{{U''}_{zz}} = 2\n",
    "\\end{array}$"
   ]
  },
  {
   "cell_type": "markdown",
   "metadata": {
    "colab_type": "text",
    "id": "cECfCSANkVqR"
   },
   "source": [
    "__2. Найти частные производные первого и второго порядка. Убедиться в равенстве смешанных производных.__\n",
    "\n",
    "### $$U=\\frac{256}{x}+\\frac{x^2}{y}+\\frac{y^2}{z}+z^2$$\n",
    "\n",
    "### $\\begin{array}{l}\n",
    "{{U'}_x}\\, = {\\left( {\\frac{{256}}{x} + \\frac{{{x^2}}}{y} + \\frac{{{y^2}}}{z} + {z^2}} \\right)^\\prime } =  - \\frac{{256}}{{{x^2}}} + 2\\frac{x}{y}\\\\\n",
    "{{U'}_y}\\, = {\\left( {\\frac{{256}}{x} + \\frac{{{x^2}}}{y} + \\frac{{{y^2}}}{z} + {z^2}} \\right)^\\prime } =  - \\frac{{{x^2}}}{{{y^2}}} + 2\\frac{y}{z}\\\\\n",
    "{{U'}_z}\\, = {\\left( {\\frac{{256}}{x} + \\frac{{{x^2}}}{y} + \\frac{{{y^2}}}{z} + {z^2}} \\right)^\\prime } =  - \\frac{{{y^2}}}{{{z^2}}} + 2z\\\\\n",
    "{{U''}_{xx}} = \\frac{{512}}{{{x^3}}} + \\frac{2}{y}\\\\\n",
    "{{U''}_{xy}} =  - 2\\frac{x}{{{y^2}}}\\\\\n",
    "{{U''}_{xz}} = 0\\\\\n",
    "{{U''}_{yx}} =  - 2\\frac{x}{{{y^2}}}\\\\\n",
    "{{U''}_{yy}} = 2\\frac{{{x^2}}}{{{y^3}}} + \\frac{2}{z}\\\\\n",
    "{{U''}_{yz}} =  - \\frac{y}{{{z^2}}}\\\\\n",
    "{{U''}_{zx}} = 0\\\\\n",
    "{{U''}_{zy}} =  - 2\\frac{y}{{{z^2}}}\\\\\n",
    "{{U''}_{zz}} = 2\\frac{{{y^2}}}{{{z^3}}} + 2\n",
    "\\end{array}$"
   ]
  },
  {
   "cell_type": "markdown",
   "metadata": {
    "colab_type": "text",
    "id": "DFrjdtbHkVqS"
   },
   "source": [
    "__3. Найти производную функции $U=x^2+y^2+z^2$ по направлению вектора $\\overrightarrow{c}(-9,8,-12)$ в точке $M(8,-12,9)$__\n",
    "\n",
    "### $|\\overrightarrow{c}|=\\sqrt{x^2_{0}+y^2_{0}+z^2_{0}}=\\sqrt{(-12)^2+8^2+(-9)^2}=\\sqrt{289}=17$\n",
    "\n",
    "Запишем единичный вектор $\\overrightarrow{c}_{0}$:\n",
    "\n",
    "### $${\\vec c_0} = \\frac{{\\vec c}}{{\\left| {\\vec c} \\right|}} = \\left( { - \\frac{9}{{17}},\\frac{8}{{17}}, - \\frac{{12}}{{17}}} \\right)$$\n",
    "Найдем градиент в точке $M(8,-12,9)$\n",
    "\n",
    "### $$\\begin{array}{l}\n",
    "{{U'}_x} = 2x\\\\\n",
    "{{U'}_y} = 2y\\\\\n",
    "{{U'}_z} = 2z\\\\\n",
    "{\\rm{grad}}U = (2x,2y,2z)\\, = (16, - 24,18)\\,\n",
    "\\end{array}\n",
    "$$\n",
    "\n",
    "Значение производной функции $U=x^2+y^2+z^2$ по направлению вектора $\\overrightarrow{c}(-9,8,-12)$ в точке $M(8,-12,9)$:\n",
    "\n",
    "\n",
    "### $${U'_{\\vec c}} =  - \\frac{9}{{17}} \\cdot 16 - \\frac{8}{{17}} \\cdot 24 - \\frac{{12}}{{17}} \\cdot 18 =  - \\frac{{144 + 192 + 216}}{{17}} =  - \\frac{{552}}{{17}}$$"
   ]
  },
  {
   "cell_type": "markdown",
   "metadata": {
    "colab_type": "text",
    "id": "5la-eVLukVqT"
   },
   "source": [
    "__4. Найти производную функции $U=e^{x^2+y^2+z^2}$ по направлению вектора $\\overrightarrow{c}(4,-13,-16)$ в точке $L(-16,4,-13)$__\n",
    "\n",
    "### $|\\vec c| = \\sqrt {x_0^2 + y_0^2 + z_0^2}  = \\sqrt {{4^2} + {{\\left( { - 13} \\right)}^2} + {{( - 16)}^2}}  = \\sqrt {441}  = 21$\n",
    "\n",
    "Запишем единичный вектор $\\overrightarrow{c}_{0}$:\n",
    "\n",
    "### $${\\vec c_0} = \\frac{{\\vec c}}{{\\left| {\\vec c} \\right|}} = \\left( { \\frac{4}{{21}},-\\frac{13}{{21}}, - \\frac{{16}}{{21}}} \\right)$$\n",
    "Найдем градиент в точке $L(-16,4,-13)$:\n",
    "\n",
    "\n",
    "### $$\\begin{array}{*{20}{l}}\n",
    "{{{U'}_x} = {e^{{x^2} + {y^2} + {z^2}}} \\cdot 2x}\\\\\n",
    "{{{U'}_y} = {e^{{x^2} + {y^2} + {z^2}}} \\cdot 2y}\\\\\n",
    "{{{U'}_z} = {e^{{x^2} + {y^2} + {z^2}}} \\cdot 2z}\\\\\n",
    "{{\\rm{grad}}U = \\left( {{e^{{x^2} + {y^2} + {z^2}}} \\cdot 2x,{e^{{x^2} + {y^2} + {z^2}}} \\cdot 2y,{e^{{x^2} + {y^2} + {z^2}}} \\cdot 2z} \\right){\\mkern 1mu}  = \\left( {{e^{441}} \\cdot 2 \\cdot \\left( { - 16} \\right),\\,\\,{e^{441}} \\cdot 2 \\cdot 4,\\,\\,{e^{441}} \\cdot 2 \\cdot \\left( { - 13} \\right)} \\right){\\mkern 1mu}  = \\left( { - 32{e^{441}},\\,\\,8{e^{441}},\\,\\, - 26{e^{441}}} \\right){\\mkern 1mu} }\n",
    "\\end{array}$$\n",
    "\n",
    "Значение производной функции $U=e^{x^2+y^2+z^2}$ по направлению вектора $\\overrightarrow{c}(4,-13,-16)$ в точке $L(-16,4,-13)$:\n",
    "\n",
    "### $${{U'}_{\\vec c}} = \\frac{4}{{21}} \\cdot \\left( { - 32{e^{441}}} \\right) - \\frac{{13}}{{21}} \\cdot \\,\\,8{e^{441}} - \\frac{{16}}{{21}} \\cdot \\left( {\\, - 26{e^{441}}} \\right) = {e^{441}} \\cdot \\frac{{416 - 104 - 128}}{{21}} = \\frac{{184}}{{21}} \\cdot {e^{441}}$$\n"
   ]
  },
  {
   "cell_type": "markdown",
   "metadata": {
    "colab_type": "text",
    "id": "kQlell_GkVqU"
   },
   "source": [
    "__5*.__ Найти производную функции $U=\\log_{21}(x^2+y^2+z^2)$ в точке $F(-19,8,-4)$ по самому быстрому направлению.\n",
    "\n",
    "Найдем градиент в точке $F(-19,8,-4)$:\n",
    "\n",
    "\n",
    "### $$\\begin{array}{l}\n",
    "{{U'}_x} = \\frac{{2x}}{{\\left( {{x^2} + {y^2} + {z^2}} \\right)\\ln 21}}\\\\\n",
    "{{U'}_y} = \\frac{{2y}}{{\\left( {{x^2} + {y^2} + {z^2}} \\right)\\ln 21}}\\\\\n",
    "{{U'}_z} = \\frac{{2z}}{{\\left( {{x^2} + {y^2} + {z^2}} \\right)\\ln 21}}\\\\\n",
    "{\\rm{grad}}U = \\left( { - \\frac{1}{{\\ln 21}} \\cdot \\frac{{38}}{{441}},\\frac{1}{{\\ln 21}} \\cdot \\frac{{16}}{{441}}, - \\frac{1}{{\\ln 21}} \\cdot \\frac{8}{{441}}\\,} \\right)\n",
    "\\end{array}$$\n",
    "\n",
    "Найдем производную по направлению градиента:\n",
    "### $$U'_{\\mbox{grad}U}=(\\mbox{grad}U_{0}\\cdot \\mbox{grad}U)$$\n",
    "\n",
    "Определим еденичный вектор:\n",
    " ${\\rm{grad}}{U_0} = \\frac{{{\\rm{grad}}U}}{{|{\\rm{grad}}U|}} = \\left( {\\frac{{ - 38}}{{\\sqrt {{{\\left( { - \\frac{1}{{\\ln 21}} \\cdot \\frac{{38}}{{441}}} \\right)}^2} + {{\\left( {\\frac{1}{{\\ln 21}} \\cdot \\frac{{16}}{{441}}} \\right)}^2} + {{\\left( { - \\frac{1}{{\\ln 21}} \\cdot \\frac{8}{{441}}} \\right)}^2}} }},\\frac{{16}}{{\\sqrt {{{\\left( { - \\frac{1}{{\\ln 21}} \\cdot \\frac{{38}}{{441}}} \\right)}^2} + {{\\left( {\\frac{1}{{\\ln 21}} \\cdot \\frac{{16}}{{441}}} \\right)}^2} + {{\\left( { - \\frac{1}{{\\ln 21}} \\cdot \\frac{8}{{441}}} \\right)}^2}} }},\\frac{{ - 8}}{{\\sqrt {{{\\left( { - \\frac{1}{{\\ln 21}} \\cdot \\frac{{38}}{{441}}} \\right)}^2} + {{\\left( {\\frac{1}{{\\ln 21}} \\cdot \\frac{{16}}{{441}}} \\right)}^2} + {{\\left( { - \\frac{1}{{\\ln 21}} \\cdot \\frac{8}{{441}}} \\right)}^2}} }},} \\right)$\n",
    " \n",
    "Производная по направлению градиента равна:\n",
    "\n",
    "${{U'}_{{\\rm{grad}}U}} = \\left( {\\frac{{{{38}^2}}}{{\\sqrt {{{\\left( { - \\frac{1}{{\\ln 21}} \\cdot \\frac{{38}}{{441}}} \\right)}^2} + {{\\left( {\\frac{1}{{\\ln 21}} \\cdot \\frac{{16}}{{441}}} \\right)}^2} + {{\\left( { - \\frac{1}{{\\ln 21}} \\cdot \\frac{8}{{441}}} \\right)}^2}} }},\\frac{{{{16}^2}}}{{\\sqrt {{{\\left( { - \\frac{1}{{\\ln 21}} \\cdot \\frac{{38}}{{441}}} \\right)}^2} + {{\\left( {\\frac{1}{{\\ln 21}} \\cdot \\frac{{16}}{{441}}} \\right)}^2} + {{\\left( { - \\frac{1}{{\\ln 21}} \\cdot \\frac{8}{{441}}} \\right)}^2}} }},\\frac{{{8^2}}}{{\\sqrt {{{\\left( { - \\frac{1}{{\\ln 21}} \\cdot \\frac{{38}}{{441}}} \\right)}^2} + {{\\left( {\\frac{1}{{\\ln 21}} \\cdot \\frac{{16}}{{441}}} \\right)}^2} + {{\\left( { - \\frac{1}{{\\ln 21}} \\cdot \\frac{8}{{441}}} \\right)}^2}} }},} \\right) \\approx \\left( {46161.049,{\\rm{ }}8183.676,{\\rm{ }}2045.919} \\right)$\n"
   ]
  },
  {
   "cell_type": "markdown",
   "metadata": {
    "colab_type": "text",
    "id": "BP3R5ornEP5h"
   },
   "source": [
    "__6.__ Исследовать на экстремум функцию:\n",
    "\n",
    "### $$U=x^2y+\\frac{1}{3}y^3+2x^2+3y^2-1$$\n",
    "\n",
    "Найдем частные производные, приравняем их к нулю и найдем стационарные точки:\n",
    "\n",
    "\n",
    "### $$\\left\\{ \\begin{array}{l}\n",
    "{{U'}_x} = 2xy + 4x = 0\\\\\n",
    "{{U'}_y} = {x^2} + {y^2} + 6y = 0\n",
    "\\end{array} \\right.$$\n",
    "\n",
    "\n",
    "$\\left\\{ \\begin{array}{l}\n",
    "2xy + 4x = 0\\\\\n",
    "{x^2} + {y^2} + 6y = 0\n",
    "\\end{array} \\right. \\Rightarrow \\left\\{ \\begin{array}{l}\n",
    "2x \\cdot \\left( {y + 2} \\right) = 0\\\\\n",
    "{x^2} + {y^2} + 6y = 0\n",
    "\\end{array} \\right. \\Rightarrow \\left\\{ \\begin{array}{l}\n",
    "\\left\\{ \\begin{array}{l}\n",
    "x = 0\\\\\n",
    "{y^2} + 6y = 0\n",
    "\\end{array} \\right. \\Rightarrow \\left\\{ \\begin{array}{l}\n",
    "x = 0\\\\\n",
    "y\\left( {y + 6} \\right) = 0\n",
    "\\end{array} \\right. \\Rightarrow \\left\\{ \\begin{array}{l}\n",
    "x = 0\\\\\n",
    "{y_1} = 0;{y_2} =  - 6\\,\n",
    "\\end{array} \\right.\\\\\n",
    "\\left\\{ \\begin{array}{l}\n",
    "y =  - 2\\\\\n",
    "{x^2} + 4 - 12 = 0\n",
    "\\end{array} \\right. \\Rightarrow \\left\\{ \\begin{array}{l}\n",
    "y =  - 2\\\\\n",
    "{x^2} + 4 - 12 = 0\n",
    "\\end{array} \\right. \\Rightarrow \\left\\{ \\begin{array}{l}\n",
    "y = 0\\\\\n",
    "{x_1} = 2\\sqrt 2 ;{x_2} =  - 2\\sqrt 2 \\,\n",
    "\\end{array} \\right.\n",
    "\\end{array} \\right.$\n",
    "\n",
    "Получаем стационарные точки $\\left( {0,0} \\right),\\left( {0, - 6} \\right),\\left( {2\\sqrt 2 ,0} \\right),\\left( { - 2\\sqrt 2 ,0} \\right)$\n",
    "\n",
    "\n",
    "Найдем вторые производные и составим матрицу Гёссе:\n",
    "\n",
    "\n",
    "### $$\\begin{array}{l}\n",
    "{{U''}_{xx}} = 2y + 4\\\\\n",
    "{{U''}_{xy}} = {{U''}_{yx}} = 2x\\\\\n",
    "{{U''}_{yy}} = 2y + 6\\\\\n",
    "\\left( {\\begin{array}{*{20}{c}}\n",
    "{2y + 4}&{2x}\\\\\n",
    "{2x}&{2y + 6}\n",
    "\\end{array}} \\right)\n",
    "\\end{array}$$\n",
    "\n",
    "Выделим два главных минора:\n",
    "\n",
    "### $$\\begin{array}{l}\n",
    "{\\Delta _1} = 2y + 4\\\\\n",
    "{\\Delta _2} = \\left( {\\begin{array}{*{20}{c}}\n",
    "{2y + 4}&{2x}\\\\\n",
    "{2x}&{2y + 6}\n",
    "\\end{array}} \\right) = \\left( {2y + 4} \\right) \\cdot \\left( {2y + 6} \\right) - 4{x^2}\n",
    "\\end{array}$$\n",
    "\n",
    "Для каждой стационарной точки определим ${\\Delta _1},{\\Delta _2}$:\n",
    "\n",
    "для точки $\\left( {0,0} \\right)$ \n",
    "\n",
    "$${\\Delta _1} = 4,\\,{\\Delta _2} = 24$$\n",
    "\n",
    "Так как все миноры положительные, то точка $\\left( {0,0} \\right)$ является точкой __минимума__\n",
    "\n",
    "для точки $\\left( {0,-6} \\right)$ \n",
    "\n",
    "$${\\Delta _1} =  - 8,\\,{\\Delta _2} = 48$$\n",
    "\n",
    "Так как первый минор отрицательный, а второй положительный, то точка $\\left( {0,-6} \\right)$ является точкой __максимума__\n",
    "\n",
    "для точки $\\left( {2\\sqrt 2 ,0} \\right)$ \n",
    "\n",
    "$${\\Delta _1} = 4,\\,{\\Delta _2} = -8$$\n",
    "\n",
    "Точка $\\left( {2\\sqrt 2 ,0} \\right)$ является __«седловой»__\n",
    "\n",
    "\n",
    "для точки $\\left( { - 2\\sqrt 2 ,0} \\right)$ \n",
    "\n",
    "$${\\Delta _1} = 4,\\,{\\Delta _2} = -8$$\n",
    "\n",
    "Точка $\\left( { - 2\\sqrt 2 ,0} \\right)$ является __«седловой»__\n"
   ]
  },
  {
   "cell_type": "markdown",
   "metadata": {
    "colab_type": "text",
    "id": "uRr3WwTfEP5i"
   },
   "source": [
    "__7*.__ Исследовать на экстремум функцию:\n",
    "\n",
    "### $$U=e^{-\\frac{x}{2}}\\cdot(x^2+y^2)$$"
   ]
  },
  {
   "cell_type": "markdown",
   "metadata": {
    "colab_type": "text",
    "id": "izCpZfW6EP5i"
   },
   "source": [
    "__8**.__ С помощью метода наименьших квадратов (МНК) подобрать значения параметров $a$ и $b$ для сигмоидальной функции $$y=\\frac{1}{1+e^{-(ax+b)}}$$ \n",
    "\n",
    "по заданному распределению. Построить график."
   ]
  },
  {
   "cell_type": "code",
   "execution_count": null,
   "metadata": {
    "colab": {},
    "colab_type": "code",
    "id": "CRaJBFCuEP5j",
    "outputId": "087df646-065c-489a-cdc9-a10f9e449cde",
    "scrolled": true
   },
   "outputs": [
    {
     "data": {
      "image/png": "[encoded data removed]",
      "text/plain": [
       "<Figure size 432x288 with 1 Axes>"
      ]
     },
     "metadata": {
      "needs_background": "light",
      "tags": []
     },
     "output_type": "display_data"
    }
   ],
   "source": [
    "import numpy as np\n",
    "import matplotlib.pyplot as plt\n",
    "\n",
    "# Задаем рандомное распределение точек\n",
    "xi = np.random.uniform(-8, 8, 200)\n",
    "yi = 1/(1+np.exp(-np.random.uniform(0.5, 1.5, 200)*xi-np.random.uniform(-1, 1, 200)))\n",
    "plt.plot(xi,yi, marker=\"o\", ls=\"\")\n",
    "\n",
    "plt.show()"
   ]
  },
  {
   "cell_type": "code",
   "execution_count": 21,
   "metadata": {},
   "outputs": [
    {
     "data": {
      "text/plain": [
       "184"
      ]
     },
     "execution_count": 21,
     "metadata": {},
     "output_type": "execute_result"
    }
   ],
   "source": [
    "416 - 104 - 128"
   ]
  },
  {
   "cell_type": "code",
   "execution_count": 36,
   "metadata": {},
   "outputs": [
    {
     "name": "stdout",
     "output_type": "stream",
     "text": [
      "441\n",
      "-0.028302567058086037\n",
      "0.011916870340246752\n",
      "-0.005958435170123376\n",
      "0.03128178464314772\n"
     ]
    },
    {
     "data": {
      "text/plain": [
       "[46161.049200762536, 8183.676312600561, 2045.9190781501402]"
      ]
     },
     "execution_count": 36,
     "metadata": {},
     "output_type": "execute_result"
    }
   ],
   "source": [
    "import math\n",
    "exp = math.exp\n",
    "ln = math.log\n",
    "e = exp(441)\n",
    "-16*2*e\n",
    "\n",
    "a = 19**2+8**2+4**2\n",
    "x = (-1/ln(21))*(38/a)\n",
    "y = 1/ln(21)*(16/a)\n",
    "z = -1/ln(21)*(8/a)\n",
    "\n",
    "U = (x**2+y**2+z**2)**(1/2)\n",
    "\n",
    "U_grad = [38**2/U, 16**2/U, 8**2/U]\n",
    "\n",
    "\n",
    "print(a,x,y,z,U,sep=\"\\n\")\n",
    "U_grad"
   ]
  },
  {
   "cell_type": "code",
   "execution_count": 28,
   "metadata": {},
   "outputs": [
    {
     "data": {
      "text/plain": [
       "0.009070294784580499"
      ]
     },
     "execution_count": 28,
     "metadata": {},
     "output_type": "execute_result"
    }
   ],
   "source": [
    "4/441\n"
   ]
  },
  {
   "cell_type": "markdown",
   "metadata": {
    "colab_type": "text",
    "id": "Iv-T_NZAkVqZ"
   },
   "source": [
    "## Дополнительные материалы"
   ]
  },
  {
   "cell_type": "markdown",
   "metadata": {
    "colab_type": "text",
    "id": "9o_SiUNxkVqa"
   },
   "source": [
    "1. [fsolve](https://docs.scipy.org/doc/scipy/reference/generated/scipy.optimize.fsolve.html)\n"
   ]
  }
 ],
 "metadata": {
  "colab": {
   "collapsed_sections": [],
   "name": "Lesson_7.ipynb",
   "provenance": []
  },
  "kernelspec": {
   "display_name": "Python 3",
   "language": "python",
   "name": "python3"
  },
  "language_info": {
   "codemirror_mode": {
    "name": "ipython",
    "version": 3
   },
   "file_extension": ".py",
   "mimetype": "text/x-python",
   "name": "python",
   "nbconvert_exporter": "python",
   "pygments_lexer": "ipython3",
   "version": "3.7.4"
  }
 },
 "nbformat": 4,
 "nbformat_minor": 1
}
