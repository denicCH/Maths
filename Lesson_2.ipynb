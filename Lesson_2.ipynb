{
 "cells": [
  {
   "cell_type": "markdown",
   "metadata": {},
   "source": [
    "## 1. Представьте в виде несократимой рациональной дроби\n",
    "\n",
    "### $$а)\\,\\,\\, 0.(216);$$\n",
    "### $$б)\\,\\,\\, 1.0(01).$$"
   ]
  },
  {
   "cell_type": "markdown",
   "metadata": {},
   "source": [
    "### a)\n",
    "$\\begin{array}{l}\n",
    "a\\, = \\,0.216\\\\\n",
    "1000a = 216.({216})\\\\\n",
    "1000a = 216\\, + \\,0.(216)\\\\\n",
    "1000a = 216\\, + \\,a\\\\\n",
    "\\left( {1000 - 1} \\right)a = 216\\,\\\\\n",
    "a = \\frac{216\\,}{999}\n",
    "\\end{array}$"
   ]
  },
  {
   "cell_type": "markdown",
   "metadata": {},
   "source": [
    "### б)\n",
    "$\\begin{array}{l}\n",
    "a\\, = \\,1.0\\left( {01} \\right)\\\\\n",
    "10a = 10.\\left( {01} \\right)\\\\\n",
    "1000a = 1001.\\left( {01} \\right)\\\\\n",
    "1000a = 991\\, + \\,10.\\left( {01} \\right)\\\\\n",
    "1000a = 991\\, + \\,10a\\\\\n",
    "\\left( {1000 - 10} \\right)a = 991\\,\\\\\n",
    "a = \\frac{{991}}{{990}}\n",
    "\\end{array}$"
   ]
  },
  {
   "cell_type": "code",
   "execution_count": null,
   "metadata": {},
   "outputs": [],
   "source": []
  },
  {
   "cell_type": "markdown",
   "metadata": {},
   "source": [
    "## 3 Проверьте любым способ, является ли данные логические формулы тавтологией\n",
    "\n",
    "\n",
    "\n",
    "### $a)\\,\\,\\, (A \\vee B) \\rightarrow (B \\vee\\overline A)$\n",
    "### $б)\\,\\,\\, A \\rightarrow (A \\vee (\\overline B \\wedge A))$"
   ]
  },
  {
   "cell_type": "markdown",
   "metadata": {},
   "source": [
    "Заменим операцию импликации эквивалентным выражением $D \\to C \\Leftrightarrow \\overline D  \\vee C$, тогда"
   ]
  },
  {
   "cell_type": "markdown",
   "metadata": {},
   "source": [
    "$$\\left( {A \\vee B} \\right) \\to \\left( {\\overline A  \\vee B} \\right)\\, = \\,\\,\\overline {\\left( {A \\vee B} \\right)}  \\vee \\left( {\\overline A  \\vee B} \\right) = \\overline A  \\wedge \\overline B  \\vee \\overline A  \\vee B\\, = \\,\\overline A  \\vee B$$\n",
    "Не является тавтологией\n",
    "$$A \\to (A \\vee (\\bar B \\wedge A))\\,\\, = \\,\\,\\overline A  \\vee A \\vee (\\bar B \\wedge A)\\, = \\,\\,\\overline A  \\vee A\\, = \\,1$$\n",
    "Является тавтологией"
   ]
  },
  {
   "cell_type": "markdown",
   "metadata": {},
   "source": [
    "## 4 Сформулируйте словесно высказывания:\n",
    "### $$a)\\,\\,\\, (\\overline A \\vee B) \\rightarrow \\overline C$$\n",
    "### $$б)\\,\\,\\, C \\rightarrow (A \\vee \\overline B)$$\n",
    "\n",
    "- $A:\\,\\,\\,$ сегодня светит солнце; \n",
    "- $B:\\,\\,\\,$ сегодня сыро; \n",
    "- $C:\\,\\,\\,$ я поеду на дачу. "
   ]
  },
  {
   "cell_type": "markdown",
   "metadata": {},
   "source": [
    "__а)__ Если сегодня __Не светит солнце__ или __сегодня сыро__, то я __Не поеду на дачу__\n",
    "\n",
    "__б)__ Если я __поеду на дачу__, то __сегодня светит солнце__ или __сегодня Не сыро__\n"
   ]
  },
  {
   "cell_type": "markdown",
   "metadata": {},
   "source": [
    "## 5  Пользуясь правилом построения противоположного высказывания, запишите утверждения, противоположные следующим:\n",
    "\n",
    "__a)__ На любом курсе каждого факультета есть студенты, сдающие все экзамены на «отлично».\n",
    "\n",
    "__б)__ В любом самолете на рейсе Вашингтон-Москва присутствует хотя бы один сотрудник силовых органов, в каждой пуговице одежды которого вмонтирован микрофон."
   ]
  },
  {
   "cell_type": "markdown",
   "metadata": {},
   "source": [
    "__a)__ На $\\forall$ курсе $\\forall$ факультета $\\exists$ студенты, сдающие $\\forall$ экзамены на «отлично».\n",
    "\n",
    "противоположным этому высказыванрию будет\n"
   ]
  },
  {
   "cell_type": "markdown",
   "metadata": {},
   "source": [
    "__a)__  $\\exists$ курсы $\\exists$ факультетов где $\\forall$ студенты, не сдают $\\exists$ экзамены на «отлично».\n",
    "\n",
    "\n",
    "__Существуют__  курсы __некоторых__ факультетов где __все__ студенты, не сдают __некоторые__ экзамены на «отлично».\n"
   ]
  },
  {
   "cell_type": "markdown",
   "metadata": {},
   "source": [
    "__б)__ В $\\forall$ самолете на рейсе Вашингтон-Москва $\\exists$ хотя бы один сотрудник силовых органов, в $\\forall$ пуговице одежды которого вмонтирован микрофон.\n",
    "\n",
    "противоположным этому высказыванрию будет"
   ]
  },
  {
   "cell_type": "markdown",
   "metadata": {},
   "source": [
    "__б)__ В $\\exists$ самолетах на рейсе Вашингтон-Москва не присутствуют $\\forall$  сотрудники силовых органов, в $\\exists$ пуговицах одежды которых вмонтирован микрофон.\n",
    "\n",
    "__б)__ В некоторых самолетах на рейсе Вашингтон-Москва не присутствуют все сотрудники силовых органов, в некоторых пуговицах одежды которых вмонтирован микрофон."
   ]
  },
  {
   "cell_type": "code",
   "execution_count": null,
   "metadata": {},
   "outputs": [],
   "source": []
  }
 ],
 "metadata": {
  "kernelspec": {
   "display_name": "Python 3",
   "language": "python",
   "name": "python3"
  },
  "language_info": {
   "codemirror_mode": {
    "name": "ipython",
    "version": 3
   },
   "file_extension": ".py",
   "mimetype": "text/x-python",
   "name": "python",
   "nbconvert_exporter": "python",
   "pygments_lexer": "ipython3",
   "version": "3.7.4"
  }
 },
 "nbformat": 4,
 "nbformat_minor": 2
}
